{
 "cells": [
  {
   "cell_type": "code",
   "execution_count": 7,
   "metadata": {},
   "outputs": [
    {
     "ename": "ModuleNotFoundError",
     "evalue": "No module named 'benchmarks'",
     "output_type": "error",
     "traceback": [
      "\u001b[0;31m---------------------------------------------------------------------------\u001b[0m",
      "\u001b[0;31mModuleNotFoundError\u001b[0m                       Traceback (most recent call last)",
      "Cell \u001b[0;32mIn[7], line 10\u001b[0m\n\u001b[1;32m      7\u001b[0m \u001b[39mfrom\u001b[39;00m \u001b[39mscipy\u001b[39;00m\u001b[39m.\u001b[39;00m\u001b[39mstats\u001b[39;00m \u001b[39mimport\u001b[39;00m t\n\u001b[1;32m      9\u001b[0m \u001b[39mimport\u001b[39;00m \u001b[39mcopulagp\u001b[39;00m\u001b[39m.\u001b[39;00m\u001b[39mutils\u001b[39;00m \u001b[39mas\u001b[39;00m \u001b[39mutils\u001b[39;00m\n\u001b[0;32m---> 10\u001b[0m \u001b[39mimport\u001b[39;00m \u001b[39mbenchmarks\u001b[39;00m\u001b[39m.\u001b[39;00m\u001b[39mtrain4entropy\u001b[39;00m\u001b[39m,\u001b[39m \u001b[39mbenchmarks\u001b[39;00m\u001b[39m.\u001b[39;00m\u001b[39mintegrate_student\u001b[39;00m\n\u001b[1;32m     11\u001b[0m \u001b[39mimport\u001b[39;00m \u001b[39mbvcopula\u001b[39;00m\n\u001b[1;32m     12\u001b[0m \u001b[39mfrom\u001b[39;00m \u001b[39mvine\u001b[39;00m \u001b[39mimport\u001b[39;00m CVine\n",
      "\u001b[0;31mModuleNotFoundError\u001b[0m: No module named 'benchmarks'"
     ]
    }
   ],
   "source": [
    "import sys\n",
    "home = '/home/nina/CopulaGP/'\n",
    "sys.path.insert(0, home)\n",
    "\n",
    "import torch\n",
    "import numpy as np\n",
    "from scipy.stats import t\n",
    "\n",
    "import copulagp.utils as utils\n",
    "import benchmarks.train4entropy, benchmarks.integrate_student\n",
    "import bvcopula\n",
    "from vine import CVine"
   ]
  },
  {
   "attachments": {},
   "cell_type": "markdown",
   "metadata": {},
   "source": [
    "# Student"
   ]
  },
  {
   "cell_type": "code",
   "execution_count": 3,
   "metadata": {},
   "outputs": [],
   "source": [
    "#choose the number of dimensions\n",
    "Nvar = 2\n",
    "mc_size = 2000\n",
    "sem_tol=0.015\n",
    "\n",
    "NSamp=10000\n",
    "device = torch.device('cpu')\n",
    "x = torch.linspace(0.,1.,NSamp).numpy()\n",
    "train_x = torch.tensor(x).float().to(device=device)\n",
    "\n",
    "#define functions\n",
    "Frhos = lambda NN: np.ones(NN)*0.7\n",
    "Fdfs = lambda NN: np.exp(5*np.linspace(0,1,NN))+1\n",
    "rhos = Frhos(NSamp)\n",
    "dfs = Fdfs(NSamp)"
   ]
  },
  {
   "cell_type": "code",
   "execution_count": 4,
   "metadata": {},
   "outputs": [],
   "source": [
    "# sample from Student\n",
    "y = utils.student_rvs(Nvar,rhos,dfs,1).squeeze()\n",
    "y0 = np.zeros_like(y)\n",
    "for i in range(y.shape[0]):\n",
    "    y0[i] = t.cdf(y[i],df=dfs[i])\n",
    "train_y = torch.tensor(y0).float().to(device=device)"
   ]
  },
  {
   "cell_type": "code",
   "execution_count": 5,
   "metadata": {},
   "outputs": [
    {
     "ename": "NameError",
     "evalue": "name 'bvcopula' is not defined",
     "output_type": "error",
     "traceback": [
      "\u001b[0;31m---------------------------------------------------------------------------\u001b[0m",
      "\u001b[0;31mNameError\u001b[0m                                 Traceback (most recent call last)",
      "Cell \u001b[0;32mIn[5], line 2\u001b[0m\n\u001b[1;32m      1\u001b[0m \u001b[39m# define pre-selected likelihoods\u001b[39;00m\n\u001b[0;32m----> 2\u001b[0m likelihoods \u001b[39m=\u001b[39m  [bvcopula\u001b[39m.\u001b[39mGaussianCopula_Likelihood(),\n\u001b[1;32m      3\u001b[0m                 bvcopula\u001b[39m.\u001b[39mGumbelCopula_Likelihood(rotation\u001b[39m=\u001b[39m\u001b[39m'\u001b[39m\u001b[39m180°\u001b[39m\u001b[39m'\u001b[39m)] \n\u001b[1;32m      4\u001b[0m waic, model \u001b[39m=\u001b[39m bvcopula\u001b[39m.\u001b[39minfer(likelihoods,train_x,train_y,device\u001b[39m=\u001b[39mdevice)\n",
      "\u001b[0;31mNameError\u001b[0m: name 'bvcopula' is not defined"
     ]
    }
   ],
   "source": [
    "# define pre-selected likelihoods\n",
    "likelihoods =  [bvcopula.GaussianCopula_Likelihood(),\n",
    "                bvcopula.GumbelCopula_Likelihood(rotation='180°')] \n",
    "waic, model = bvcopula.infer(likelihoods,train_x,train_y,device=device)"
   ]
  },
  {
   "cell_type": "code",
   "execution_count": 5,
   "metadata": {},
   "outputs": [],
   "source": [
    "model.gp_model.eval()\n",
    "copula = model.marginalize(train_x)"
   ]
  },
  {
   "cell_type": "code",
   "execution_count": 6,
   "metadata": {},
   "outputs": [
    {
     "data": {
      "text/plain": [
       "[0.9907808368077073]"
      ]
     },
     "execution_count": 6,
     "metadata": {},
     "output_type": "execute_result"
    }
   ],
   "source": [
    "def get_R(model,copula):\n",
    "    ints = np.array([0,1])\n",
    "    R = []\n",
    "    N, M = 20, 100\n",
    "    mesh = torch.stack(torch.meshgrid([torch.linspace(0.,1.,M+2)[1:-1], \n",
    "                                       torch.linspace(0.,1.,N+2)[1:-1]]),axis=-1).reshape(-1,2).to(device)\n",
    "    for i in range(len(ints)-1):\n",
    "        mask = (x>ints[i]) & (x<ints[i+1])\n",
    "        S = y0[mask]\n",
    "        u_cdf = np.cumsum(np.histogram2d(*S.T,bins=[M+1,N])[0],axis=0)\n",
    "        ecdf = u_cdf[:-1] / u_cdf.max(axis=0)\n",
    "        # plt.imshow(ecdf)\n",
    "        mean = x[mask].mean()\n",
    "        test_x = (torch.ones(M*N)*mean).float().cuda(device=device)\n",
    "        with torch.no_grad():\n",
    "            f = model.gp_model(test_x).mean\n",
    "            copula = model.likelihood.get_copula(f)\n",
    "        ccdf = copula.ccdf(mesh).detach().cpu().numpy().reshape(M,N)\n",
    "        # plt.imshow(ccdf)\n",
    "        # base = np.repeat((np.linspace(0,1,N+2)[1:-1]).reshape(-1,1),N,axis=1)\n",
    "        var_exp = 1 - ((ecdf-ccdf)**2).sum(axis=0)/((ecdf-0.5)**2).sum(axis=0)\n",
    "        R.append(var_exp.mean())\n",
    "    return R\n",
    "get_R(model,copula)"
   ]
  },
  {
   "attachments": {},
   "cell_type": "markdown",
   "metadata": {},
   "source": [
    "# Transformed Gauss"
   ]
  },
  {
   "cell_type": "code",
   "execution_count": 7,
   "metadata": {},
   "outputs": [],
   "source": [
    "rho0 = torch.linspace(-0.1,.999,NSamp,device=device).unsqueeze(0)\n",
    "def const_rho_layers(rho,Nvar):\n",
    "    def lin_gauss(rhos):\n",
    "        return bvcopula.MixtureCopula(rhos, \n",
    "                    torch.ones(1,NSamp,device=device), \n",
    "                    [bvcopula.GaussianCopula_Likelihood().copula])\n",
    "    copula_layers = []\n",
    "    rho_cond = rho.clone()\n",
    "    for i in range(Nvar-1):\n",
    "        copula_layers.append([lin_gauss(rho_cond) for j in range(Nvar-1-i)])\n",
    "        rho_cond = (rho_cond - rho_cond**2) / (1 - rho_cond**2)\n",
    "    return copula_layers"
   ]
  },
  {
   "cell_type": "code",
   "execution_count": 8,
   "metadata": {},
   "outputs": [],
   "source": [
    "copula_layers = const_rho_layers(rho0,Nvar)\n",
    "vine = CVine(copula_layers,train_x,device=device)\n",
    "#sample\n",
    "y=vine.sample().cpu().numpy()\n",
    "#transform samples\n",
    "new_y = y.copy()\n",
    "new_y += np.repeat(y.prod(axis=-1).reshape(NSamp,1),Nvar,axis=-1)**(1/Nvar)\n",
    "transformed_y = (np.argsort(new_y.flatten()).argsort()/new_y.size).reshape(new_y.shape)\n",
    "train_y = torch.tensor(transformed_y).float().to(device=device)"
   ]
  },
  {
   "cell_type": "code",
   "execution_count": 9,
   "metadata": {},
   "outputs": [],
   "source": [
    "likelihoods =  [bvcopula.GaussianCopula_Likelihood(),\n",
    "                bvcopula.GumbelCopula_Likelihood(rotation='180°'),\n",
    "                bvcopula.GumbelCopula_Likelihood(rotation='0°')]\n",
    "waic, model = bvcopula.infer(likelihoods,train_x,train_y,device=device)"
   ]
  },
  {
   "cell_type": "code",
   "execution_count": 10,
   "metadata": {},
   "outputs": [
    {
     "data": {
      "text/plain": [
       "[0.9792320898383986]"
      ]
     },
     "execution_count": 10,
     "metadata": {},
     "output_type": "execute_result"
    }
   ],
   "source": [
    "get_R(model,copula)"
   ]
  },
  {
   "cell_type": "code",
   "execution_count": null,
   "metadata": {},
   "outputs": [],
   "source": []
  }
 ],
 "metadata": {
  "kernelspec": {
   "display_name": "copGP",
   "language": "python",
   "name": "python3"
  },
  "language_info": {
   "codemirror_mode": {
    "name": "ipython",
    "version": 3
   },
   "file_extension": ".py",
   "mimetype": "text/x-python",
   "name": "python",
   "nbconvert_exporter": "python",
   "pygments_lexer": "ipython3",
   "version": "3.11.6"
  }
 },
 "nbformat": 4,
 "nbformat_minor": 2
}
