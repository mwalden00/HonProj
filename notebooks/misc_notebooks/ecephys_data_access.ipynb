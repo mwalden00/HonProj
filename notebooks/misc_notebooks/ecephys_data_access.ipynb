{
 "cells": [
  {
   "attachments": {},
   "cell_type": "markdown",
   "id": "4af47151",
   "metadata": {
    "papermill": {
     "duration": 0.007349,
     "end_time": "2023-11-30T06:23:22.921624",
     "exception": false,
     "start_time": "2023-11-30T06:23:22.914275",
     "status": "completed"
    },
    "pycharm": {
     "name": "#%% md\n"
    },
    "tags": []
   },
   "source": [
    "# Accessing Neuropixels Visual Coding Data\n",
    "\n",
    "## Tutorial overview\n",
    "\n",
    "This Jupyter notebook covers the various methods for accessing the Allen Institute Neuropixels Visual Coding dataset. We will go over how to request data, where it's stored, and what the various files contain.  If you're having trouble downloading the data, or you just want to know more about what's going on under the hood, this is a good place to start.\n",
    "\n",
    "Currently, we do not have a web interface for browsing through the available cells and experiments, as with the [two-photon imaging Visual Coding dataset](http://observatory.brain-map.org/visualcoding). Instead, the data must be retrieved through the AllenSDK (Python 3.6+), or via requests sent to [api.brain-map.org](http://mouse.brain-map.org/static/api).\n",
    "\n",
    "Functions related to data analysis will be covered in other tutorials. For a full list of available tutorials, see the [SDK documentation](https://allensdk.readthedocs.io/en/latest/visual_coding_neuropixels.html).\n",
    "\n",
    "## Options for data access\n",
    "\n",
    "The **`EcephysProjectCache` object of the AllenSDK** is the easiest way to interact with the data. This object abstracts away the details of on-disk file storage, and delivers the data to you as ready-to-analyze Python objects. The cache will automatically keep track of which files are stored locally, and will download additional files on an as-needed basis. Usually you won't need to worry about how these files are structured, but this tutorial will cover those details in case you want to analyze them without using the AllenSDK (e.g., in Matlab). This tutorial begins with <a href='#Using-the-AllenSDK-to-retrieve-data'>an introduction to this approach</a>.\n",
    "\n",
    "If you have an **Amazon Web Services (AWS)** account, you can use an `EcephysProjectCache` object to access the data via the Allen Brain Observatory Simple Storage Service (S3) bucket. This is an AWS Public Dataset located at `arn:aws:s3:::allen-brain-observatory` in region `us-west-2`. Launching a Jupyter notebook instance on AWS will allow you to access the complete dataset without having to download anything locally. This includes around 80 TB of raw data files, which are not accessible via the AllenSDK. The only drawback is that you'll need to pay for the time that your instance is running—but this can still be economical in many cases. A brief overview of this approach can be found <a href='#Accessing-data-on-AWS'>below</a>.\n",
    "\n",
    "A third option is to directly download the data via **api.brain-map.org**. This should be used only as a last resort if the other options are broken or are not available to you. Instructions for this can be found <a href='#Direct-download-via-api.brain-map.org'>at the end of this tutorial</a>."
   ]
  },
  {
   "attachments": {},
   "cell_type": "markdown",
   "id": "87a7f7a8",
   "metadata": {
    "papermill": {
     "duration": 0.006367,
     "end_time": "2023-11-30T06:23:22.934556",
     "exception": false,
     "start_time": "2023-11-30T06:23:22.928189",
     "status": "completed"
    },
    "pycharm": {
     "name": "#%% md\n"
    },
    "tags": []
   },
   "source": [
    "## Using the AllenSDK to retrieve data"
   ]
  },
  {
   "attachments": {},
   "cell_type": "markdown",
   "id": "fa74e2be",
   "metadata": {
    "papermill": {
     "duration": 0.006475,
     "end_time": "2023-11-30T06:23:22.947343",
     "exception": false,
     "start_time": "2023-11-30T06:23:22.940868",
     "status": "completed"
    },
    "pycharm": {
     "name": "#%% md\n"
    },
    "tags": []
   },
   "source": [
    "Most users will want to access data via the AllenSDK. This requires nothing more than a Python interpreter and some free disk space to store the data locally.\n",
    "\n",
    "How much data is there? If you want to download the complete dataset (58 experiments), you'll need 855 GB of space, split across the following files:\n",
    "\n",
    "1. CSV files containing information about sessions, probes, channels and units (58.1 MB)\n",
    "2. NWB files containing spike times, behavior data, and stimulus information for each session (146.5 GB total, min file size = 1.7 GB, max file size = 3.3 GB)\n",
    "3. NWB files containing LFP data for each probe (707 GB total, min file size = 0.9 GB, max file size = 2.7 GB)\n",
    "\n",
    "Before downloading the data, you must decide where the `manifest.json` file lives. This file serves as the map that guides the `EcephysProjectCache` object to the file locations.\n",
    "\n",
    "When you initialize a local cache for the first time, it will create the manifest file at the path that you specify. This file lives in the same directory as the rest of the data, so make sure you put it somewhere that has enough space available. \n",
    "\n",
    "When you need to access the data in subsequent analysis sessions, you should point the `EcephysProjectCache` object to an _existing_ `manifest.json` file; otherwise, it will try to re-download the data in a new location.\n",
    "\n",
    "To get started with this approach, first take care of the necessary imports:"
   ]
  },
  {
   "cell_type": "code",
   "execution_count": 1,
   "id": "8c3fba2b",
   "metadata": {
    "execution": {
     "iopub.execute_input": "2023-11-30T06:23:22.961105Z",
     "iopub.status.busy": "2023-11-30T06:23:22.960880Z",
     "iopub.status.idle": "2023-11-30T06:23:27.168628Z",
     "shell.execute_reply": "2023-11-30T06:23:27.167977Z"
    },
    "papermill": {
     "duration": 4.216733,
     "end_time": "2023-11-30T06:23:27.170380",
     "exception": false,
     "start_time": "2023-11-30T06:23:22.953647",
     "status": "completed"
    },
    "pycharm": {
     "name": "#%%\n"
    },
    "tags": []
   },
   "outputs": [
    {
     "name": "stderr",
     "output_type": "stream",
     "text": [
      "/Users/mxwaldo/.pyenv/versions/copGP/lib/python3.11/site-packages/tqdm/auto.py:21: TqdmWarning: IProgress not found. Please update jupyter and ipywidgets. See https://ipywidgets.readthedocs.io/en/stable/user_install.html\n",
      "  from .autonotebook import tqdm as notebook_tqdm\n"
     ]
    }
   ],
   "source": [
    "import os\n",
    "import shutil\n",
    "import numpy as np\n",
    "import pandas as pd\n",
    "from pathlib import Path\n",
    "\n",
    "from allensdk.brain_observatory.ecephys.ecephys_project_cache import EcephysProjectCache"
   ]
  },
  {
   "attachments": {},
   "cell_type": "markdown",
   "id": "9fe3b5b5",
   "metadata": {
    "papermill": {
     "duration": 0.006475,
     "end_time": "2023-11-30T06:23:27.183824",
     "exception": false,
     "start_time": "2023-11-30T06:23:27.177349",
     "status": "completed"
    },
    "pycharm": {
     "name": "#%% md\n"
    },
    "tags": []
   },
   "source": [
    "Next, we'll specify the location of the manifest file. If you're creating a cache for the first time, this file won't exist yet, but it _must_ be placed in an existing data directory. Remember to choose a location that has plenty of free space available."
   ]
  },
  {
   "cell_type": "code",
   "execution_count": 2,
   "id": "ed4b9fe8",
   "metadata": {
    "execution": {
     "iopub.execute_input": "2023-11-30T06:23:27.198375Z",
     "iopub.status.busy": "2023-11-30T06:23:27.197665Z",
     "iopub.status.idle": "2023-11-30T06:23:27.201149Z",
     "shell.execute_reply": "2023-11-30T06:23:27.200579Z"
    },
    "papermill": {
     "duration": 0.012164,
     "end_time": "2023-11-30T06:23:27.202538",
     "exception": false,
     "start_time": "2023-11-30T06:23:27.190374",
     "status": "completed"
    },
    "pycharm": {
     "name": "#%%\n"
    },
    "tags": [
     "parameters"
    ]
   },
   "outputs": [],
   "source": [
    "output_dir = '~/CopulaGP/data' # must be updated to a valid directory in your filesystem\n",
    "DOWNLOAD_COMPLETE_DATASET = True"
   ]
  },
  {
   "cell_type": "code",
   "execution_count": 3,
   "id": "00bd7b08",
   "metadata": {
    "execution": {
     "iopub.execute_input": "2023-11-30T06:23:27.235066Z",
     "iopub.status.busy": "2023-11-30T06:23:27.234690Z",
     "iopub.status.idle": "2023-11-30T06:23:27.237624Z",
     "shell.execute_reply": "2023-11-30T06:23:27.237062Z"
    },
    "papermill": {
     "duration": 0.011422,
     "end_time": "2023-11-30T06:23:27.238949",
     "exception": false,
     "start_time": "2023-11-30T06:23:27.227527",
     "status": "completed"
    },
    "pycharm": {
     "name": "#%%\n"
    },
    "tags": []
   },
   "outputs": [],
   "source": [
    "manifest_path = os.path.join(output_dir, \"manifest.json\")"
   ]
  },
  {
   "attachments": {},
   "cell_type": "markdown",
   "id": "805ed1fa",
   "metadata": {
    "papermill": {
     "duration": 0.006453,
     "end_time": "2023-11-30T06:23:27.251971",
     "exception": false,
     "start_time": "2023-11-30T06:23:27.245518",
     "status": "completed"
    },
    "pycharm": {
     "name": "#%% md\n"
    },
    "tags": []
   },
   "source": [
    "Now we can create the cache object, specifying both the local storage directory (the `manifest_path`) and the remote storage location (the Allen Institute data warehouse)."
   ]
  },
  {
   "cell_type": "code",
   "execution_count": 4,
   "id": "205cd199",
   "metadata": {
    "execution": {
     "iopub.execute_input": "2023-11-30T06:23:27.266056Z",
     "iopub.status.busy": "2023-11-30T06:23:27.265647Z",
     "iopub.status.idle": "2023-11-30T06:23:27.269325Z",
     "shell.execute_reply": "2023-11-30T06:23:27.268708Z"
    },
    "papermill": {
     "duration": 0.012288,
     "end_time": "2023-11-30T06:23:27.270770",
     "exception": false,
     "start_time": "2023-11-30T06:23:27.258482",
     "status": "completed"
    },
    "pycharm": {
     "name": "#%%\n"
    },
    "tags": []
   },
   "outputs": [],
   "source": [
    "cache = EcephysProjectCache.from_warehouse(manifest=manifest_path)"
   ]
  },
  {
   "attachments": {},
   "cell_type": "markdown",
   "id": "08bca1f1",
   "metadata": {
    "papermill": {
     "duration": 0.006512,
     "end_time": "2023-11-30T06:23:27.283867",
     "exception": false,
     "start_time": "2023-11-30T06:23:27.277355",
     "status": "completed"
    },
    "pycharm": {
     "name": "#%% md\n"
    },
    "tags": []
   },
   "source": [
    "This will prepare the cache to download four files:\n",
    "\n",
    "1. `sessions.csv` (7.8 kB)\n",
    "2. `probes.csv` (27.0 kB)\n",
    "3. `channels.csv` (6.6 MB)\n",
    "4. `units.csv` (51.4 MB)\n",
    "\n",
    "Each one contains a table of information related to its file name. If you're using the AllenSDK, you won't have to worry about how these files are formatted. Instead, you'll load the relevant data using specific accessor functions: `get_session_table()`, `get_probes()`, `get_channels()`, and `get_units()`. These functions return a [pandas DataFrame](https://pandas.pydata.org/pandas-docs/stable/reference/frame.html?highlight=dataframe) containing a row for each item and a column for each metric.\n",
    "\n",
    "If you are analyzing data without using the AllenSDK, you can load the data using your CSV file reader of choice. However, please be aware the columns in the original file do not necessarily match what's returned by the AllenSDK, which may combine information from multiple files to produce the final DataFrame.\n",
    "\n",
    "Let's take a closer look at what's in the `sessions.csv` file:"
   ]
  },
  {
   "cell_type": "code",
   "execution_count": 5,
   "id": "51c27283",
   "metadata": {
    "execution": {
     "iopub.execute_input": "2023-11-30T06:23:27.297906Z",
     "iopub.status.busy": "2023-11-30T06:23:27.297515Z",
     "iopub.status.idle": "2023-11-30T06:27:16.881043Z",
     "shell.execute_reply": "2023-11-30T06:27:16.880287Z"
    },
    "papermill": {
     "duration": 229.59866,
     "end_time": "2023-11-30T06:27:16.889009",
     "exception": false,
     "start_time": "2023-11-30T06:23:27.290349",
     "status": "completed"
    },
    "pycharm": {
     "name": "#%%\n"
    },
    "tags": []
   },
   "outputs": [
    {
     "name": "stdout",
     "output_type": "stream",
     "text": [
      "Total number of sessions: 58\n"
     ]
    },
    {
     "data": {
      "text/html": [
       "<div>\n",
       "<style scoped>\n",
       "    .dataframe tbody tr th:only-of-type {\n",
       "        vertical-align: middle;\n",
       "    }\n",
       "\n",
       "    .dataframe tbody tr th {\n",
       "        vertical-align: top;\n",
       "    }\n",
       "\n",
       "    .dataframe thead th {\n",
       "        text-align: right;\n",
       "    }\n",
       "</style>\n",
       "<table border=\"1\" class=\"dataframe\">\n",
       "  <thead>\n",
       "    <tr style=\"text-align: right;\">\n",
       "      <th></th>\n",
       "      <th>published_at</th>\n",
       "      <th>specimen_id</th>\n",
       "      <th>session_type</th>\n",
       "      <th>age_in_days</th>\n",
       "      <th>sex</th>\n",
       "      <th>full_genotype</th>\n",
       "      <th>unit_count</th>\n",
       "      <th>channel_count</th>\n",
       "      <th>probe_count</th>\n",
       "      <th>ecephys_structure_acronyms</th>\n",
       "    </tr>\n",
       "    <tr>\n",
       "      <th>id</th>\n",
       "      <th></th>\n",
       "      <th></th>\n",
       "      <th></th>\n",
       "      <th></th>\n",
       "      <th></th>\n",
       "      <th></th>\n",
       "      <th></th>\n",
       "      <th></th>\n",
       "      <th></th>\n",
       "      <th></th>\n",
       "    </tr>\n",
       "  </thead>\n",
       "  <tbody>\n",
       "    <tr>\n",
       "      <th>715093703</th>\n",
       "      <td>2019-10-03T00:00:00Z</td>\n",
       "      <td>699733581</td>\n",
       "      <td>brain_observatory_1.1</td>\n",
       "      <td>118.0</td>\n",
       "      <td>M</td>\n",
       "      <td>Sst-IRES-Cre/wt;Ai32(RCL-ChR2(H134R)_EYFP)/wt</td>\n",
       "      <td>884</td>\n",
       "      <td>2219</td>\n",
       "      <td>6</td>\n",
       "      <td>[CA1, VISrl, nan, PO, LP, LGd, CA3, DG, VISl, ...</td>\n",
       "    </tr>\n",
       "    <tr>\n",
       "      <th>719161530</th>\n",
       "      <td>2019-10-03T00:00:00Z</td>\n",
       "      <td>703279284</td>\n",
       "      <td>brain_observatory_1.1</td>\n",
       "      <td>122.0</td>\n",
       "      <td>M</td>\n",
       "      <td>Sst-IRES-Cre/wt;Ai32(RCL-ChR2(H134R)_EYFP)/wt</td>\n",
       "      <td>755</td>\n",
       "      <td>2214</td>\n",
       "      <td>6</td>\n",
       "      <td>[TH, Eth, APN, POL, LP, DG, CA1, VISpm, nan, N...</td>\n",
       "    </tr>\n",
       "    <tr>\n",
       "      <th>721123822</th>\n",
       "      <td>2019-10-03T00:00:00Z</td>\n",
       "      <td>707296982</td>\n",
       "      <td>brain_observatory_1.1</td>\n",
       "      <td>125.0</td>\n",
       "      <td>M</td>\n",
       "      <td>Pvalb-IRES-Cre/wt;Ai32(RCL-ChR2(H134R)_EYFP)/wt</td>\n",
       "      <td>444</td>\n",
       "      <td>2229</td>\n",
       "      <td>6</td>\n",
       "      <td>[MB, SCig, PPT, NOT, DG, CA1, VISam, nan, LP, ...</td>\n",
       "    </tr>\n",
       "    <tr>\n",
       "      <th>732592105</th>\n",
       "      <td>2019-10-03T00:00:00Z</td>\n",
       "      <td>717038288</td>\n",
       "      <td>brain_observatory_1.1</td>\n",
       "      <td>100.0</td>\n",
       "      <td>M</td>\n",
       "      <td>wt/wt</td>\n",
       "      <td>824</td>\n",
       "      <td>1847</td>\n",
       "      <td>5</td>\n",
       "      <td>[grey, VISpm, nan, VISp, VISl, VISal, VISrl]</td>\n",
       "    </tr>\n",
       "    <tr>\n",
       "      <th>737581020</th>\n",
       "      <td>2019-10-03T00:00:00Z</td>\n",
       "      <td>718643567</td>\n",
       "      <td>brain_observatory_1.1</td>\n",
       "      <td>108.0</td>\n",
       "      <td>M</td>\n",
       "      <td>wt/wt</td>\n",
       "      <td>568</td>\n",
       "      <td>2218</td>\n",
       "      <td>6</td>\n",
       "      <td>[grey, VISmma, nan, VISpm, VISp, VISl, VISrl]</td>\n",
       "    </tr>\n",
       "  </tbody>\n",
       "</table>\n",
       "</div>"
      ],
      "text/plain": [
       "                   published_at  specimen_id           session_type  \\\n",
       "id                                                                    \n",
       "715093703  2019-10-03T00:00:00Z    699733581  brain_observatory_1.1   \n",
       "719161530  2019-10-03T00:00:00Z    703279284  brain_observatory_1.1   \n",
       "721123822  2019-10-03T00:00:00Z    707296982  brain_observatory_1.1   \n",
       "732592105  2019-10-03T00:00:00Z    717038288  brain_observatory_1.1   \n",
       "737581020  2019-10-03T00:00:00Z    718643567  brain_observatory_1.1   \n",
       "\n",
       "           age_in_days sex                                    full_genotype  \\\n",
       "id                                                                            \n",
       "715093703        118.0   M    Sst-IRES-Cre/wt;Ai32(RCL-ChR2(H134R)_EYFP)/wt   \n",
       "719161530        122.0   M    Sst-IRES-Cre/wt;Ai32(RCL-ChR2(H134R)_EYFP)/wt   \n",
       "721123822        125.0   M  Pvalb-IRES-Cre/wt;Ai32(RCL-ChR2(H134R)_EYFP)/wt   \n",
       "732592105        100.0   M                                            wt/wt   \n",
       "737581020        108.0   M                                            wt/wt   \n",
       "\n",
       "           unit_count  channel_count  probe_count  \\\n",
       "id                                                  \n",
       "715093703         884           2219            6   \n",
       "719161530         755           2214            6   \n",
       "721123822         444           2229            6   \n",
       "732592105         824           1847            5   \n",
       "737581020         568           2218            6   \n",
       "\n",
       "                                  ecephys_structure_acronyms  \n",
       "id                                                            \n",
       "715093703  [CA1, VISrl, nan, PO, LP, LGd, CA3, DG, VISl, ...  \n",
       "719161530  [TH, Eth, APN, POL, LP, DG, CA1, VISpm, nan, N...  \n",
       "721123822  [MB, SCig, PPT, NOT, DG, CA1, VISam, nan, LP, ...  \n",
       "732592105       [grey, VISpm, nan, VISp, VISl, VISal, VISrl]  \n",
       "737581020      [grey, VISmma, nan, VISpm, VISp, VISl, VISrl]  "
      ]
     },
     "execution_count": 5,
     "metadata": {},
     "output_type": "execute_result"
    }
   ],
   "source": [
    "sessions = cache.get_session_table()\n",
    "\n",
    "print('Total number of sessions: ' + str(len(sessions)))\n",
    "\n",
    "sessions.head()"
   ]
  },
  {
   "attachments": {},
   "cell_type": "markdown",
   "id": "59727a12",
   "metadata": {
    "papermill": {
     "duration": 0.006816,
     "end_time": "2023-11-30T06:27:16.902711",
     "exception": false,
     "start_time": "2023-11-30T06:27:16.895895",
     "status": "completed"
    },
    "pycharm": {
     "name": "#%% md\n"
    },
    "tags": []
   },
   "source": [
    "The `sessions` DataFrame provides a high-level overview of the Neuropixels Visual Coding dataset. The index column is a unique ID, which serves as a key for accessing the physiology data for each session. The other columns contain information about:\n",
    "\n",
    "- the session type (i.e., which stimulus set was shown?)\n",
    "- the age, sex, and genotype of the mouse (in this dataset, there's only one session per mouse)\n",
    "- the number of probes, channels, and units for each session\n",
    "- the brain structures recorded (CCFv3 acronyms)\n",
    "\n",
    "If we want to find all of recordings from male Sst-Cre mice that viewed the Brain Observatory 1.1 stimulus and contain units from area LM, we can use the following query:"
   ]
  },
  {
   "cell_type": "code",
   "execution_count": 6,
   "id": "5cd29a20",
   "metadata": {
    "execution": {
     "iopub.execute_input": "2023-11-30T06:27:16.917345Z",
     "iopub.status.busy": "2023-11-30T06:27:16.916907Z",
     "iopub.status.idle": "2023-11-30T06:27:16.929159Z",
     "shell.execute_reply": "2023-11-30T06:27:16.928601Z"
    },
    "papermill": {
     "duration": 0.021114,
     "end_time": "2023-11-30T06:27:16.930525",
     "exception": false,
     "start_time": "2023-11-30T06:27:16.909411",
     "status": "completed"
    },
    "pycharm": {
     "name": "#%%\n"
    },
    "tags": []
   },
   "outputs": [
    {
     "data": {
      "text/html": [
       "<div>\n",
       "<style scoped>\n",
       "    .dataframe tbody tr th:only-of-type {\n",
       "        vertical-align: middle;\n",
       "    }\n",
       "\n",
       "    .dataframe tbody tr th {\n",
       "        vertical-align: top;\n",
       "    }\n",
       "\n",
       "    .dataframe thead th {\n",
       "        text-align: right;\n",
       "    }\n",
       "</style>\n",
       "<table border=\"1\" class=\"dataframe\">\n",
       "  <thead>\n",
       "    <tr style=\"text-align: right;\">\n",
       "      <th></th>\n",
       "      <th>published_at</th>\n",
       "      <th>specimen_id</th>\n",
       "      <th>session_type</th>\n",
       "      <th>age_in_days</th>\n",
       "      <th>sex</th>\n",
       "      <th>full_genotype</th>\n",
       "      <th>unit_count</th>\n",
       "      <th>channel_count</th>\n",
       "      <th>probe_count</th>\n",
       "      <th>ecephys_structure_acronyms</th>\n",
       "    </tr>\n",
       "    <tr>\n",
       "      <th>id</th>\n",
       "      <th></th>\n",
       "      <th></th>\n",
       "      <th></th>\n",
       "      <th></th>\n",
       "      <th></th>\n",
       "      <th></th>\n",
       "      <th></th>\n",
       "      <th></th>\n",
       "      <th></th>\n",
       "      <th></th>\n",
       "    </tr>\n",
       "  </thead>\n",
       "  <tbody>\n",
       "    <tr>\n",
       "      <th>715093703</th>\n",
       "      <td>2019-10-03T00:00:00Z</td>\n",
       "      <td>699733581</td>\n",
       "      <td>brain_observatory_1.1</td>\n",
       "      <td>118.0</td>\n",
       "      <td>M</td>\n",
       "      <td>Sst-IRES-Cre/wt;Ai32(RCL-ChR2(H134R)_EYFP)/wt</td>\n",
       "      <td>884</td>\n",
       "      <td>2219</td>\n",
       "      <td>6</td>\n",
       "      <td>[CA1, VISrl, nan, PO, LP, LGd, CA3, DG, VISl, ...</td>\n",
       "    </tr>\n",
       "    <tr>\n",
       "      <th>719161530</th>\n",
       "      <td>2019-10-03T00:00:00Z</td>\n",
       "      <td>703279284</td>\n",
       "      <td>brain_observatory_1.1</td>\n",
       "      <td>122.0</td>\n",
       "      <td>M</td>\n",
       "      <td>Sst-IRES-Cre/wt;Ai32(RCL-ChR2(H134R)_EYFP)/wt</td>\n",
       "      <td>755</td>\n",
       "      <td>2214</td>\n",
       "      <td>6</td>\n",
       "      <td>[TH, Eth, APN, POL, LP, DG, CA1, VISpm, nan, N...</td>\n",
       "    </tr>\n",
       "    <tr>\n",
       "      <th>756029989</th>\n",
       "      <td>2019-10-03T00:00:00Z</td>\n",
       "      <td>734865738</td>\n",
       "      <td>brain_observatory_1.1</td>\n",
       "      <td>96.0</td>\n",
       "      <td>M</td>\n",
       "      <td>Sst-IRES-Cre/wt;Ai32(RCL-ChR2(H134R)_EYFP)/wt</td>\n",
       "      <td>684</td>\n",
       "      <td>2214</td>\n",
       "      <td>6</td>\n",
       "      <td>[TH, DG, CA3, CA1, VISl, nan, PO, Eth, LP, VIS...</td>\n",
       "    </tr>\n",
       "  </tbody>\n",
       "</table>\n",
       "</div>"
      ],
      "text/plain": [
       "                   published_at  specimen_id           session_type  \\\n",
       "id                                                                    \n",
       "715093703  2019-10-03T00:00:00Z    699733581  brain_observatory_1.1   \n",
       "719161530  2019-10-03T00:00:00Z    703279284  brain_observatory_1.1   \n",
       "756029989  2019-10-03T00:00:00Z    734865738  brain_observatory_1.1   \n",
       "\n",
       "           age_in_days sex                                  full_genotype  \\\n",
       "id                                                                          \n",
       "715093703        118.0   M  Sst-IRES-Cre/wt;Ai32(RCL-ChR2(H134R)_EYFP)/wt   \n",
       "719161530        122.0   M  Sst-IRES-Cre/wt;Ai32(RCL-ChR2(H134R)_EYFP)/wt   \n",
       "756029989         96.0   M  Sst-IRES-Cre/wt;Ai32(RCL-ChR2(H134R)_EYFP)/wt   \n",
       "\n",
       "           unit_count  channel_count  probe_count  \\\n",
       "id                                                  \n",
       "715093703         884           2219            6   \n",
       "719161530         755           2214            6   \n",
       "756029989         684           2214            6   \n",
       "\n",
       "                                  ecephys_structure_acronyms  \n",
       "id                                                            \n",
       "715093703  [CA1, VISrl, nan, PO, LP, LGd, CA3, DG, VISl, ...  \n",
       "719161530  [TH, Eth, APN, POL, LP, DG, CA1, VISpm, nan, N...  \n",
       "756029989  [TH, DG, CA3, CA1, VISl, nan, PO, Eth, LP, VIS...  "
      ]
     },
     "execution_count": 6,
     "metadata": {},
     "output_type": "execute_result"
    }
   ],
   "source": [
    "filtered_sessions = sessions[(sessions.sex == 'M') & \\\n",
    "                             (sessions.full_genotype.str.find('Sst') > -1) & \\\n",
    "                             (sessions.session_type == 'brain_observatory_1.1') & \\\n",
    "                             (['VISl' in acronyms for acronyms in \n",
    "                               sessions.ecephys_structure_acronyms])]\n",
    "\n",
    "filtered_sessions.head()"
   ]
  },
  {
   "attachments": {},
   "cell_type": "markdown",
   "id": "b3fccb38",
   "metadata": {
    "papermill": {
     "duration": 0.006943,
     "end_time": "2023-11-30T06:27:16.944460",
     "exception": false,
     "start_time": "2023-11-30T06:27:16.937517",
     "status": "completed"
    },
    "pycharm": {
     "name": "#%% md\n"
    },
    "tags": []
   },
   "source": [
    "The `filtered_sessions` table contains the three sessions that meet these criteria.\n",
    "\n",
    "The code above uses standard syntax for filtering pandas DataFrames. If this is unfamiliar to you, we strongly recommend reading through the [pandas documentation](https://pandas.pydata.org/pandas-docs/stable/). The AllenSDK makes heavy use of pandas objects, so we don't have to come up with our own functions for working with tabular data.\n",
    "\n",
    "Let's take a look at another DataFrame, extracted from the `probes.csv` file."
   ]
  },
  {
   "cell_type": "code",
   "execution_count": 7,
   "id": "ea9c63b2",
   "metadata": {
    "execution": {
     "iopub.execute_input": "2023-11-30T06:27:16.959340Z",
     "iopub.status.busy": "2023-11-30T06:27:16.958965Z",
     "iopub.status.idle": "2023-11-30T06:27:17.602584Z",
     "shell.execute_reply": "2023-11-30T06:27:17.601826Z"
    },
    "papermill": {
     "duration": 0.652684,
     "end_time": "2023-11-30T06:27:17.604010",
     "exception": false,
     "start_time": "2023-11-30T06:27:16.951326",
     "status": "completed"
    },
    "pycharm": {
     "name": "#%%\n"
    },
    "tags": []
   },
   "outputs": [
    {
     "name": "stdout",
     "output_type": "stream",
     "text": [
      "Total number of probes: 332\n"
     ]
    },
    {
     "data": {
      "text/html": [
       "<div>\n",
       "<style scoped>\n",
       "    .dataframe tbody tr th:only-of-type {\n",
       "        vertical-align: middle;\n",
       "    }\n",
       "\n",
       "    .dataframe tbody tr th {\n",
       "        vertical-align: top;\n",
       "    }\n",
       "\n",
       "    .dataframe thead th {\n",
       "        text-align: right;\n",
       "    }\n",
       "</style>\n",
       "<table border=\"1\" class=\"dataframe\">\n",
       "  <thead>\n",
       "    <tr style=\"text-align: right;\">\n",
       "      <th></th>\n",
       "      <th>ecephys_session_id</th>\n",
       "      <th>lfp_sampling_rate</th>\n",
       "      <th>name</th>\n",
       "      <th>phase</th>\n",
       "      <th>sampling_rate</th>\n",
       "      <th>has_lfp_data</th>\n",
       "      <th>unit_count</th>\n",
       "      <th>channel_count</th>\n",
       "      <th>ecephys_structure_acronyms</th>\n",
       "    </tr>\n",
       "    <tr>\n",
       "      <th>id</th>\n",
       "      <th></th>\n",
       "      <th></th>\n",
       "      <th></th>\n",
       "      <th></th>\n",
       "      <th></th>\n",
       "      <th></th>\n",
       "      <th></th>\n",
       "      <th></th>\n",
       "      <th></th>\n",
       "    </tr>\n",
       "  </thead>\n",
       "  <tbody>\n",
       "    <tr>\n",
       "      <th>729445648</th>\n",
       "      <td>719161530</td>\n",
       "      <td>1249.998642</td>\n",
       "      <td>probeA</td>\n",
       "      <td>3a</td>\n",
       "      <td>29999.967418</td>\n",
       "      <td>True</td>\n",
       "      <td>87</td>\n",
       "      <td>374</td>\n",
       "      <td>[APN, LP, MB, DG, CA1, VISam, nan]</td>\n",
       "    </tr>\n",
       "    <tr>\n",
       "      <th>729445650</th>\n",
       "      <td>719161530</td>\n",
       "      <td>1249.996620</td>\n",
       "      <td>probeB</td>\n",
       "      <td>3a</td>\n",
       "      <td>29999.918880</td>\n",
       "      <td>True</td>\n",
       "      <td>202</td>\n",
       "      <td>368</td>\n",
       "      <td>[TH, Eth, APN, POL, LP, DG, CA1, VISpm, nan]</td>\n",
       "    </tr>\n",
       "    <tr>\n",
       "      <th>729445652</th>\n",
       "      <td>719161530</td>\n",
       "      <td>1249.999897</td>\n",
       "      <td>probeC</td>\n",
       "      <td>3a</td>\n",
       "      <td>29999.997521</td>\n",
       "      <td>True</td>\n",
       "      <td>207</td>\n",
       "      <td>373</td>\n",
       "      <td>[APN, NOT, MB, DG, SUB, VISp, nan]</td>\n",
       "    </tr>\n",
       "    <tr>\n",
       "      <th>729445654</th>\n",
       "      <td>719161530</td>\n",
       "      <td>1249.996707</td>\n",
       "      <td>probeD</td>\n",
       "      <td>3a</td>\n",
       "      <td>29999.920963</td>\n",
       "      <td>True</td>\n",
       "      <td>93</td>\n",
       "      <td>358</td>\n",
       "      <td>[grey, VL, CA3, CA2, CA1, VISl, nan]</td>\n",
       "    </tr>\n",
       "    <tr>\n",
       "      <th>729445656</th>\n",
       "      <td>719161530</td>\n",
       "      <td>1249.999979</td>\n",
       "      <td>probeE</td>\n",
       "      <td>3a</td>\n",
       "      <td>29999.999500</td>\n",
       "      <td>True</td>\n",
       "      <td>138</td>\n",
       "      <td>370</td>\n",
       "      <td>[PO, VPM, TH, LP, LGd, CA3, DG, CA1, VISal, nan]</td>\n",
       "    </tr>\n",
       "  </tbody>\n",
       "</table>\n",
       "</div>"
      ],
      "text/plain": [
       "           ecephys_session_id  lfp_sampling_rate    name phase  sampling_rate  \\\n",
       "id                                                                              \n",
       "729445648           719161530        1249.998642  probeA    3a   29999.967418   \n",
       "729445650           719161530        1249.996620  probeB    3a   29999.918880   \n",
       "729445652           719161530        1249.999897  probeC    3a   29999.997521   \n",
       "729445654           719161530        1249.996707  probeD    3a   29999.920963   \n",
       "729445656           719161530        1249.999979  probeE    3a   29999.999500   \n",
       "\n",
       "           has_lfp_data  unit_count  channel_count  \\\n",
       "id                                                   \n",
       "729445648          True          87            374   \n",
       "729445650          True         202            368   \n",
       "729445652          True         207            373   \n",
       "729445654          True          93            358   \n",
       "729445656          True         138            370   \n",
       "\n",
       "                                 ecephys_structure_acronyms  \n",
       "id                                                           \n",
       "729445648                [APN, LP, MB, DG, CA1, VISam, nan]  \n",
       "729445650      [TH, Eth, APN, POL, LP, DG, CA1, VISpm, nan]  \n",
       "729445652                [APN, NOT, MB, DG, SUB, VISp, nan]  \n",
       "729445654              [grey, VL, CA3, CA2, CA1, VISl, nan]  \n",
       "729445656  [PO, VPM, TH, LP, LGd, CA3, DG, CA1, VISal, nan]  "
      ]
     },
     "execution_count": 7,
     "metadata": {},
     "output_type": "execute_result"
    }
   ],
   "source": [
    "probes = cache.get_probes()\n",
    "\n",
    "print('Total number of probes: ' + str(len(probes)))\n",
    "\n",
    "probes.head()"
   ]
  },
  {
   "attachments": {},
   "cell_type": "markdown",
   "id": "aa5218fc",
   "metadata": {
    "papermill": {
     "duration": 0.007107,
     "end_time": "2023-11-30T06:27:17.618986",
     "exception": false,
     "start_time": "2023-11-30T06:27:17.611879",
     "status": "completed"
    },
    "pycharm": {
     "name": "#%% md\n"
    },
    "tags": []
   },
   "source": [
    "The `probes` DataFrame contains information about the Neuropixels probes used across all recordings. Each row represents one probe from one recording session, even though the physical probes may have been used in multiple sessions. Some of the important columns are:\n",
    "\n",
    "- `ecephys_session_id`: the index column of the `sessions` table\n",
    "- `sampling_rate`: the sampling rate (in Hz) for this probe's spike band; note that each probe has a unique sampling rate around 30 kHz. The small variations in sampling rate across probes can add up to large offsets over time, so it's critical to take these differences into account. However, all of the data you will interact with has been pre-aligned to a common clock, so this value is included only for reference purposes.\n",
    "- `lfp_sampling_rate`: the sampling rate (in Hz) for this probe's LFP band NWB files, after 2x downsampling from the original rate of 2.5 kHz\n",
    "- `name`: the probe name is assigned based on the location of the probe on the recording rig. This is useful to keep in mind because probes with the same name are always targeted to the same cortical region and enter the brain from the same angle (`probeA` = AM, `probeB` = PM, `probeC` = V1, `probeD` = LM, `probeE` = AL, `probeF` = RL). However, the targeting is not always accurate, so the actual recorded region may be different.\n",
    "- `phase`: the data may have been generated by one of two \"phases\" of Neuropixels probes. **3a** = prototype version; **PXI** = publicly available version (\"Neuropixels 1.0\"). The two phases should be equivalent from the perspective of data analysis, but there may be differences in the noise characteristics between the two acquisition systems.\n",
    "- `channel_count`: the number of channels with spikes or LFP data (maximum = 384)\n",
    "\n",
    "The `channels.csv` file contains information about each of these channels."
   ]
  },
  {
   "cell_type": "code",
   "execution_count": 8,
   "id": "778ca4e5",
   "metadata": {
    "execution": {
     "iopub.execute_input": "2023-11-30T06:27:17.634342Z",
     "iopub.status.busy": "2023-11-30T06:27:17.633861Z",
     "iopub.status.idle": "2023-11-30T06:27:18.197743Z",
     "shell.execute_reply": "2023-11-30T06:27:18.197037Z"
    },
    "papermill": {
     "duration": 0.573066,
     "end_time": "2023-11-30T06:27:18.199099",
     "exception": false,
     "start_time": "2023-11-30T06:27:17.626033",
     "status": "completed"
    },
    "pycharm": {
     "name": "#%%\n"
    },
    "tags": []
   },
   "outputs": [
    {
     "name": "stdout",
     "output_type": "stream",
     "text": [
      "Total number of channels: 123224\n"
     ]
    },
    {
     "data": {
      "text/html": [
       "<div>\n",
       "<style scoped>\n",
       "    .dataframe tbody tr th:only-of-type {\n",
       "        vertical-align: middle;\n",
       "    }\n",
       "\n",
       "    .dataframe tbody tr th {\n",
       "        vertical-align: top;\n",
       "    }\n",
       "\n",
       "    .dataframe thead th {\n",
       "        text-align: right;\n",
       "    }\n",
       "</style>\n",
       "<table border=\"1\" class=\"dataframe\">\n",
       "  <thead>\n",
       "    <tr style=\"text-align: right;\">\n",
       "      <th></th>\n",
       "      <th>ecephys_probe_id</th>\n",
       "      <th>local_index</th>\n",
       "      <th>probe_horizontal_position</th>\n",
       "      <th>probe_vertical_position</th>\n",
       "      <th>anterior_posterior_ccf_coordinate</th>\n",
       "      <th>dorsal_ventral_ccf_coordinate</th>\n",
       "      <th>left_right_ccf_coordinate</th>\n",
       "      <th>ecephys_structure_id</th>\n",
       "      <th>ecephys_structure_acronym</th>\n",
       "      <th>ecephys_session_id</th>\n",
       "      <th>lfp_sampling_rate</th>\n",
       "      <th>phase</th>\n",
       "      <th>sampling_rate</th>\n",
       "      <th>has_lfp_data</th>\n",
       "      <th>unit_count</th>\n",
       "    </tr>\n",
       "    <tr>\n",
       "      <th>id</th>\n",
       "      <th></th>\n",
       "      <th></th>\n",
       "      <th></th>\n",
       "      <th></th>\n",
       "      <th></th>\n",
       "      <th></th>\n",
       "      <th></th>\n",
       "      <th></th>\n",
       "      <th></th>\n",
       "      <th></th>\n",
       "      <th></th>\n",
       "      <th></th>\n",
       "      <th></th>\n",
       "      <th></th>\n",
       "      <th></th>\n",
       "    </tr>\n",
       "  </thead>\n",
       "  <tbody>\n",
       "    <tr>\n",
       "      <th>849705558</th>\n",
       "      <td>792645504</td>\n",
       "      <td>1</td>\n",
       "      <td>11</td>\n",
       "      <td>20</td>\n",
       "      <td>8165.0</td>\n",
       "      <td>3314.0</td>\n",
       "      <td>6862.0</td>\n",
       "      <td>215.0</td>\n",
       "      <td>APN</td>\n",
       "      <td>779839471</td>\n",
       "      <td>1250.001479</td>\n",
       "      <td>3a</td>\n",
       "      <td>30000.035489</td>\n",
       "      <td>True</td>\n",
       "      <td>0</td>\n",
       "    </tr>\n",
       "    <tr>\n",
       "      <th>849705560</th>\n",
       "      <td>792645504</td>\n",
       "      <td>2</td>\n",
       "      <td>59</td>\n",
       "      <td>40</td>\n",
       "      <td>8162.0</td>\n",
       "      <td>3307.0</td>\n",
       "      <td>6866.0</td>\n",
       "      <td>215.0</td>\n",
       "      <td>APN</td>\n",
       "      <td>779839471</td>\n",
       "      <td>1250.001479</td>\n",
       "      <td>3a</td>\n",
       "      <td>30000.035489</td>\n",
       "      <td>True</td>\n",
       "      <td>0</td>\n",
       "    </tr>\n",
       "    <tr>\n",
       "      <th>849705562</th>\n",
       "      <td>792645504</td>\n",
       "      <td>3</td>\n",
       "      <td>27</td>\n",
       "      <td>40</td>\n",
       "      <td>8160.0</td>\n",
       "      <td>3301.0</td>\n",
       "      <td>6871.0</td>\n",
       "      <td>215.0</td>\n",
       "      <td>APN</td>\n",
       "      <td>779839471</td>\n",
       "      <td>1250.001479</td>\n",
       "      <td>3a</td>\n",
       "      <td>30000.035489</td>\n",
       "      <td>True</td>\n",
       "      <td>0</td>\n",
       "    </tr>\n",
       "    <tr>\n",
       "      <th>849705564</th>\n",
       "      <td>792645504</td>\n",
       "      <td>4</td>\n",
       "      <td>43</td>\n",
       "      <td>60</td>\n",
       "      <td>8157.0</td>\n",
       "      <td>3295.0</td>\n",
       "      <td>6875.0</td>\n",
       "      <td>215.0</td>\n",
       "      <td>APN</td>\n",
       "      <td>779839471</td>\n",
       "      <td>1250.001479</td>\n",
       "      <td>3a</td>\n",
       "      <td>30000.035489</td>\n",
       "      <td>True</td>\n",
       "      <td>0</td>\n",
       "    </tr>\n",
       "    <tr>\n",
       "      <th>849705566</th>\n",
       "      <td>792645504</td>\n",
       "      <td>5</td>\n",
       "      <td>11</td>\n",
       "      <td>60</td>\n",
       "      <td>8155.0</td>\n",
       "      <td>3288.0</td>\n",
       "      <td>6879.0</td>\n",
       "      <td>215.0</td>\n",
       "      <td>APN</td>\n",
       "      <td>779839471</td>\n",
       "      <td>1250.001479</td>\n",
       "      <td>3a</td>\n",
       "      <td>30000.035489</td>\n",
       "      <td>True</td>\n",
       "      <td>0</td>\n",
       "    </tr>\n",
       "  </tbody>\n",
       "</table>\n",
       "</div>"
      ],
      "text/plain": [
       "           ecephys_probe_id  local_index  probe_horizontal_position  \\\n",
       "id                                                                    \n",
       "849705558         792645504            1                         11   \n",
       "849705560         792645504            2                         59   \n",
       "849705562         792645504            3                         27   \n",
       "849705564         792645504            4                         43   \n",
       "849705566         792645504            5                         11   \n",
       "\n",
       "           probe_vertical_position  anterior_posterior_ccf_coordinate  \\\n",
       "id                                                                      \n",
       "849705558                       20                             8165.0   \n",
       "849705560                       40                             8162.0   \n",
       "849705562                       40                             8160.0   \n",
       "849705564                       60                             8157.0   \n",
       "849705566                       60                             8155.0   \n",
       "\n",
       "           dorsal_ventral_ccf_coordinate  left_right_ccf_coordinate  \\\n",
       "id                                                                    \n",
       "849705558                         3314.0                     6862.0   \n",
       "849705560                         3307.0                     6866.0   \n",
       "849705562                         3301.0                     6871.0   \n",
       "849705564                         3295.0                     6875.0   \n",
       "849705566                         3288.0                     6879.0   \n",
       "\n",
       "           ecephys_structure_id ecephys_structure_acronym  ecephys_session_id  \\\n",
       "id                                                                              \n",
       "849705558                 215.0                       APN           779839471   \n",
       "849705560                 215.0                       APN           779839471   \n",
       "849705562                 215.0                       APN           779839471   \n",
       "849705564                 215.0                       APN           779839471   \n",
       "849705566                 215.0                       APN           779839471   \n",
       "\n",
       "           lfp_sampling_rate phase  sampling_rate  has_lfp_data  unit_count  \n",
       "id                                                                           \n",
       "849705558        1250.001479    3a   30000.035489          True           0  \n",
       "849705560        1250.001479    3a   30000.035489          True           0  \n",
       "849705562        1250.001479    3a   30000.035489          True           0  \n",
       "849705564        1250.001479    3a   30000.035489          True           0  \n",
       "849705566        1250.001479    3a   30000.035489          True           0  "
      ]
     },
     "execution_count": 8,
     "metadata": {},
     "output_type": "execute_result"
    }
   ],
   "source": [
    "channels = cache.get_channels()\n",
    "\n",
    "print('Total number of channels: ' + str(len(channels)))\n",
    "\n",
    "channels.head()"
   ]
  },
  {
   "attachments": {},
   "cell_type": "markdown",
   "id": "1d1695dd",
   "metadata": {
    "papermill": {
     "duration": 0.00743,
     "end_time": "2023-11-30T06:27:18.214540",
     "exception": false,
     "start_time": "2023-11-30T06:27:18.207110",
     "status": "completed"
    },
    "pycharm": {
     "name": "#%% md\n"
    },
    "tags": []
   },
   "source": [
    "The most important columns in the `channels` DataFrame concern each channel's location in physical space. Each channel is associated with a location along the probe shank (`probe_horizontal_position` and `probe_vertical_position`), and may be linked to a coordinate in the Allen Common Coordinate framework (if CCF registration is available for that probe).\n",
    "\n",
    "The information about channel location will be merged into the `units` DataFrame, which is loaded from `units.csv`:"
   ]
  },
  {
   "cell_type": "code",
   "execution_count": 9,
   "id": "da0f9e7b",
   "metadata": {
    "execution": {
     "iopub.execute_input": "2023-11-30T06:27:18.230514Z",
     "iopub.status.busy": "2023-11-30T06:27:18.230042Z",
     "iopub.status.idle": "2023-11-30T06:27:18.707155Z",
     "shell.execute_reply": "2023-11-30T06:27:18.706396Z"
    },
    "papermill": {
     "duration": 0.486721,
     "end_time": "2023-11-30T06:27:18.708587",
     "exception": false,
     "start_time": "2023-11-30T06:27:18.221866",
     "status": "completed"
    },
    "pycharm": {
     "name": "#%%\n"
    },
    "tags": []
   },
   "outputs": [
    {
     "name": "stdout",
     "output_type": "stream",
     "text": [
      "Total number of units: 40010\n"
     ]
    }
   ],
   "source": [
    "units = cache.get_units()\n",
    "\n",
    "print('Total number of units: ' + str(len(units)))"
   ]
  },
  {
   "attachments": {},
   "cell_type": "markdown",
   "id": "6b30f0d3",
   "metadata": {
    "papermill": {
     "duration": 0.007425,
     "end_time": "2023-11-30T06:27:18.724012",
     "exception": false,
     "start_time": "2023-11-30T06:27:18.716587",
     "status": "completed"
    },
    "pycharm": {
     "name": "#%% md\n"
    },
    "tags": []
   },
   "source": [
    "This DataFrame contains metadata about the available units across all sessions. By default, the AllenSDK applies some filters to this table and only returns units above a particular quality threshold.\n",
    "\n",
    "The default filter values are as follows:\n",
    "\n",
    "- `isi_violations` < 0.5\n",
    "- `amplitude_cutoff` < 0.1\n",
    "- `presence_ratio` > 0.9\n",
    "\n",
    "For more information about these quality metrics and how to interpret them, please refer to [this tutorial](./ecephys_quality_metrics.ipynb).\n",
    "\n",
    "If you want to see _all_ of the available units, it's straightfoward to disable the quality metrics filters when retrieving this table: "
   ]
  },
  {
   "cell_type": "code",
   "execution_count": 10,
   "id": "298e9bca",
   "metadata": {
    "execution": {
     "iopub.execute_input": "2023-11-30T06:27:18.739993Z",
     "iopub.status.busy": "2023-11-30T06:27:18.739521Z",
     "iopub.status.idle": "2023-11-30T06:27:19.271962Z",
     "shell.execute_reply": "2023-11-30T06:27:19.271255Z"
    },
    "papermill": {
     "duration": 0.542013,
     "end_time": "2023-11-30T06:27:19.273351",
     "exception": false,
     "start_time": "2023-11-30T06:27:18.731338",
     "status": "completed"
    },
    "pycharm": {
     "name": "#%%\n"
    },
    "tags": []
   },
   "outputs": [
    {
     "name": "stdout",
     "output_type": "stream",
     "text": [
      "Total number of units: 99180\n"
     ]
    }
   ],
   "source": [
    "units = cache.get_units(amplitude_cutoff_maximum = np.inf,\n",
    "                        presence_ratio_minimum = -np.inf,\n",
    "                        isi_violations_maximum = np.inf)\n",
    "\n",
    "print('Total number of units: ' + str(len(units)))"
   ]
  },
  {
   "attachments": {},
   "cell_type": "markdown",
   "id": "500cf35c",
   "metadata": {
    "papermill": {
     "duration": 0.007662,
     "end_time": "2023-11-30T06:27:19.289297",
     "exception": false,
     "start_time": "2023-11-30T06:27:19.281635",
     "status": "completed"
    },
    "pycharm": {
     "name": "#%% md\n"
    },
    "tags": []
   },
   "source": [
    "As you can see, the number of units has increased substantially, but some fraction of these units will be incomplete or highly contaminated. Understanding the meaning of these metrics is a critical part of analyzing the Neuropixels dataset, so we strongly recommend learning how to interpret them correctly.\n",
    "\n",
    "In addition to the quality metrics, there are a number of stimulus-specific metrics that are computed for each unit. These are not downloaded by default, but are accessed via a separate SDK function:"
   ]
  },
  {
   "cell_type": "code",
   "execution_count": 11,
   "id": "f2f1e0dc",
   "metadata": {
    "execution": {
     "iopub.execute_input": "2023-11-30T06:27:19.305755Z",
     "iopub.status.busy": "2023-11-30T06:27:19.305355Z",
     "iopub.status.idle": "2023-11-30T06:30:21.472722Z",
     "shell.execute_reply": "2023-11-30T06:30:21.471956Z"
    },
    "papermill": {
     "duration": 182.184477,
     "end_time": "2023-11-30T06:30:21.481560",
     "exception": false,
     "start_time": "2023-11-30T06:27:19.297083",
     "status": "completed"
    },
    "pycharm": {
     "name": "#%%\n"
    },
    "tags": []
   },
   "outputs": [
    {
     "name": "stdout",
     "output_type": "stream",
     "text": [
      "21842 units in table 1\n",
      "18168 units in table 2\n"
     ]
    }
   ],
   "source": [
    "analysis_metrics1 = cache.get_unit_analysis_metrics_by_session_type('brain_observatory_1.1')\n",
    "\n",
    "analysis_metrics2 = cache.get_unit_analysis_metrics_by_session_type('functional_connectivity')\n",
    "\n",
    "print(str(len(analysis_metrics1)) + ' units in table 1')\n",
    "print(str(len(analysis_metrics2)) + ' units in table 2')"
   ]
  },
  {
   "attachments": {},
   "cell_type": "markdown",
   "id": "a1a54275",
   "metadata": {
    "papermill": {
     "duration": 0.007509,
     "end_time": "2023-11-30T06:30:21.496762",
     "exception": false,
     "start_time": "2023-11-30T06:30:21.489253",
     "status": "completed"
    },
    "pycharm": {
     "name": "#%% md\n"
    },
    "tags": []
   },
   "source": [
    "This will download two additional files, `brain_observatory_1.1_analysis_metrics.csv` and `functional_connectivity_analysis_metrics.csv`, and load them as pandas DataFrames. Note that the total length of these DataFrames is around 40k units, because the default quality metric thresholds have been applied.\n",
    "\n",
    "To load _all_ of the available units, and create one giant table of metrics, you can use the following code:"
   ]
  },
  {
   "cell_type": "code",
   "execution_count": 12,
   "id": "0d1953e2",
   "metadata": {
    "execution": {
     "iopub.execute_input": "2023-11-30T06:30:21.512996Z",
     "iopub.status.busy": "2023-11-30T06:30:21.512535Z",
     "iopub.status.idle": "2023-11-30T06:30:24.527922Z",
     "shell.execute_reply": "2023-11-30T06:30:24.527232Z"
    },
    "papermill": {
     "duration": 3.025239,
     "end_time": "2023-11-30T06:30:24.529448",
     "exception": false,
     "start_time": "2023-11-30T06:30:21.504209",
     "status": "completed"
    },
    "pycharm": {
     "name": "#%%\n"
    },
    "tags": []
   },
   "outputs": [
    {
     "name": "stdout",
     "output_type": "stream",
     "text": [
      "99180 units overall\n"
     ]
    }
   ],
   "source": [
    "analysis_metrics1 = cache.get_unit_analysis_metrics_by_session_type('brain_observatory_1.1', amplitude_cutoff_maximum = np.inf,\n",
    "                                                          presence_ratio_minimum = -np.inf,\n",
    "                                                          isi_violations_maximum = np.inf)\n",
    "\n",
    "analysis_metrics2 = cache.get_unit_analysis_metrics_by_session_type('functional_connectivity', amplitude_cutoff_maximum = np.inf,\n",
    "                                                          presence_ratio_minimum = -np.inf,\n",
    "                                                          isi_violations_maximum = np.inf)\n",
    "\n",
    "all_metrics = pd.concat([analysis_metrics1, analysis_metrics2], sort=False)\n",
    "\n",
    "print(str(len(all_metrics)) + ' units overall')"
   ]
  },
  {
   "attachments": {},
   "cell_type": "markdown",
   "id": "115b9769",
   "metadata": {
    "papermill": {
     "duration": 0.007501,
     "end_time": "2023-11-30T06:30:24.545054",
     "exception": false,
     "start_time": "2023-11-30T06:30:24.537553",
     "status": "completed"
    },
    "pycharm": {
     "name": "#%% md\n"
    },
    "tags": []
   },
   "source": [
    "The length of this DataFrame should match that of the `units` DataFrame we retrieved earlier. A few things to note about this DataFrame:\n",
    "\n",
    "- The unit analysis metrics DataFrame _also_ includes all quality metrics, so it's a superset of the `units` DataFrame\n",
    "- Since some of the stimuli in the `brain_observatory_1.1` session are not present in the `functional_connectivity` session, many of the data points in the unit analysis metrics DataFrame will be filled with `nan` values"
   ]
  },
  {
   "attachments": {},
   "cell_type": "markdown",
   "id": "d8375233",
   "metadata": {
    "papermill": {
     "duration": 0.037424,
     "end_time": "2023-11-30T06:30:24.590113",
     "exception": false,
     "start_time": "2023-11-30T06:30:24.552689",
     "status": "completed"
    },
    "pycharm": {
     "name": "#%% md\n"
    },
    "tags": []
   },
   "source": [
    "### Accessing data for individual sessions\n",
    "\n",
    "Assuming you've found a session you're interested in analyzing in more detail, it's now time to download the data. This is as simple as calling `cache.get_session_data()`, with the `session_id` as input. This method will check the cache for an existing NWB file and, if it's not present, will automatically download it for you.\n",
    "\n",
    "Each NWB file can be upwards of 2 GB, so please be patient while it's downloading!\n",
    "\n",
    "As an example, let's look at one of the sessions we selected earlier, disabling the default unit quality metrics filters:"
   ]
  },
  {
   "cell_type": "code",
   "execution_count": 13,
   "id": "681dff74",
   "metadata": {
    "execution": {
     "iopub.execute_input": "2023-11-30T06:30:24.606893Z",
     "iopub.status.busy": "2023-11-30T06:30:24.606379Z",
     "iopub.status.idle": "2023-11-30T06:33:59.680510Z",
     "shell.execute_reply": "2023-11-30T06:33:59.679943Z"
    },
    "papermill": {
     "duration": 215.084249,
     "end_time": "2023-11-30T06:33:59.681957",
     "exception": false,
     "start_time": "2023-11-30T06:30:24.597708",
     "status": "completed"
    },
    "pycharm": {
     "name": "#%%\n"
    },
    "tags": []
   },
   "outputs": [
    {
     "name": "stderr",
     "output_type": "stream",
     "text": [
      "WARNING:root:downloading a 2723.916MiB file from http://api.brain-map.org//api/v2/well_known_file_download/1026124469\n",
      "Downloading: 100%|██████████| 2.86G/2.86G [09:07<00:00, 5.21MB/s] \n"
     ]
    },
    {
     "name": "stdout",
     "output_type": "stream",
     "text": [
      "['DETAILED_STIMULUS_PARAMETERS', 'LazyProperty', 'age_in_days', 'api', 'channel_structure_intervals', 'channels', 'conditionwise_spike_statistics', 'ecephys_session_id', 'from_nwb_path', 'full_genotype', 'get_current_source_density', 'get_inter_presentation_intervals_for_stimulus', 'get_invalid_times', 'get_lfp', 'get_parameter_values_for_stimulus', 'get_pupil_data', 'get_screen_gaze_data', 'get_stimulus_epochs', 'get_stimulus_parameter_values', 'get_stimulus_table', 'inter_presentation_intervals', 'invalid_times', 'mean_waveforms', 'metadata', 'num_channels', 'num_probes', 'num_stimulus_presentations', 'num_units', 'optogenetic_stimulation_epochs', 'presentationwise_spike_counts', 'presentationwise_spike_times', 'probes', 'rig_equipment_name', 'rig_geometry_data', 'running_speed', 'session_start_time', 'session_type', 'sex', 'specimen_name', 'spike_amplitudes', 'spike_times', 'stimulus_conditions', 'stimulus_names', 'stimulus_presentations', 'structure_acronyms', 'structurewise_unit_counts', 'units']\n"
     ]
    },
    {
     "name": "stderr",
     "output_type": "stream",
     "text": [
      "/Users/mxwaldo/.pyenv/versions/copGP/lib/python3.11/site-packages/hdmf/spec/namespace.py:531: UserWarning: Ignoring cached namespace 'hdmf-common' version 1.1.3 because version 1.8.0 is already loaded.\n",
      "  warn(\"Ignoring cached namespace '%s' version %s because version %s is already loaded.\"\n",
      "/Users/mxwaldo/.pyenv/versions/copGP/lib/python3.11/site-packages/hdmf/spec/namespace.py:531: UserWarning: Ignoring cached namespace 'core' version 2.2.2 because version 2.6.0-alpha is already loaded.\n",
      "  warn(\"Ignoring cached namespace '%s' version %s because version %s is already loaded.\"\n"
     ]
    }
   ],
   "source": [
    "session = cache.get_session_data(filtered_sessions.index.values[0],\n",
    "                                 isi_violations_maximum = np.inf,\n",
    "                                 amplitude_cutoff_maximum = np.inf,\n",
    "                                 presence_ratio_minimum = -np.inf\n",
    "                                )\n",
    "\n",
    "print([attr_or_method for attr_or_method in dir(session) if attr_or_method[0] != '_'])"
   ]
  },
  {
   "attachments": {},
   "cell_type": "markdown",
   "id": "7f7a129c",
   "metadata": {
    "papermill": {
     "duration": 0.077525,
     "end_time": "2023-11-30T06:33:59.839817",
     "exception": false,
     "start_time": "2023-11-30T06:33:59.762292",
     "status": "completed"
    },
    "pycharm": {
     "name": "#%% md\n"
    },
    "tags": []
   },
   "source": [
    "As you can see, the `session` object has a lot of attributes and methods that can be used to access the underlying data in the NWB file. Most of these will be touched on in other tutorials, but for now we will look at the only one that is capable of triggering additional data downloads, `get_lfp()`.\n",
    "\n",
    "In general, each NWB file is meant to be a self-contained repository of data for one recording session. However, for the Neuropixels data, we've broken with convention a bit in order to store LFP data in separate files. If we hadn't done this, analyzing one session would require an initial 15 GB file download. Now, the session is broken up in to ~2 GB chunks..\n",
    "\n",
    "Once you have created a `session` object, downloading the LFP data is simple (but may be slow):"
   ]
  },
  {
   "cell_type": "code",
   "execution_count": 14,
   "id": "6fd47ae4",
   "metadata": {
    "execution": {
     "iopub.execute_input": "2023-11-30T06:33:59.996051Z",
     "iopub.status.busy": "2023-11-30T06:33:59.995527Z",
     "iopub.status.idle": "2023-11-30T06:36:59.460373Z",
     "shell.execute_reply": "2023-11-30T06:36:59.459660Z"
    },
    "papermill": {
     "duration": 179.544711,
     "end_time": "2023-11-30T06:36:59.462220",
     "exception": false,
     "start_time": "2023-11-30T06:33:59.917509",
     "status": "completed"
    },
    "pycharm": {
     "name": "#%%\n"
    },
    "tags": []
   },
   "outputs": [
    {
     "name": "stderr",
     "output_type": "stream",
     "text": [
      "/Users/mxwaldo/.pyenv/versions/copGP/lib/python3.11/site-packages/hdmf/spec/namespace.py:531: UserWarning: Ignoring cached namespace 'hdmf-common' version 1.1.3 because version 1.8.0 is already loaded.\n",
      "  warn(\"Ignoring cached namespace '%s' version %s because version %s is already loaded.\"\n",
      "/Users/mxwaldo/.pyenv/versions/copGP/lib/python3.11/site-packages/hdmf/spec/namespace.py:531: UserWarning: Ignoring cached namespace 'core' version 2.2.2 because version 2.6.0-alpha is already loaded.\n",
      "  warn(\"Ignoring cached namespace '%s' version %s because version %s is already loaded.\"\n",
      "WARNING:root:downloading a 1967.383MiB file from http://api.brain-map.org//api/v2/well_known_file_download/1026124481\n",
      "Downloading: 100%|██████████| 2.06G/2.06G [06:28<00:00, 5.31MB/s]\n"
     ]
    }
   ],
   "source": [
    "probe_id = session.probes.index.values[0]\n",
    "\n",
    "lfp = session.get_lfp(probe_id)"
   ]
  },
  {
   "cell_type": "code",
   "execution_count": 15,
   "id": "f5749797",
   "metadata": {},
   "outputs": [
    {
     "data": {
      "text/html": [
       "<div><svg style=\"position: absolute; width: 0; height: 0; overflow: hidden\">\n",
       "<defs>\n",
       "<symbol id=\"icon-database\" viewBox=\"0 0 32 32\">\n",
       "<path d=\"M16 0c-8.837 0-16 2.239-16 5v4c0 2.761 7.163 5 16 5s16-2.239 16-5v-4c0-2.761-7.163-5-16-5z\"></path>\n",
       "<path d=\"M16 17c-8.837 0-16-2.239-16-5v6c0 2.761 7.163 5 16 5s16-2.239 16-5v-6c0 2.761-7.163 5-16 5z\"></path>\n",
       "<path d=\"M16 26c-8.837 0-16-2.239-16-5v6c0 2.761 7.163 5 16 5s16-2.239 16-5v-6c0 2.761-7.163 5-16 5z\"></path>\n",
       "</symbol>\n",
       "<symbol id=\"icon-file-text2\" viewBox=\"0 0 32 32\">\n",
       "<path d=\"M28.681 7.159c-0.694-0.947-1.662-2.053-2.724-3.116s-2.169-2.030-3.116-2.724c-1.612-1.182-2.393-1.319-2.841-1.319h-15.5c-1.378 0-2.5 1.121-2.5 2.5v27c0 1.378 1.122 2.5 2.5 2.5h23c1.378 0 2.5-1.122 2.5-2.5v-19.5c0-0.448-0.137-1.23-1.319-2.841zM24.543 5.457c0.959 0.959 1.712 1.825 2.268 2.543h-4.811v-4.811c0.718 0.556 1.584 1.309 2.543 2.268zM28 29.5c0 0.271-0.229 0.5-0.5 0.5h-23c-0.271 0-0.5-0.229-0.5-0.5v-27c0-0.271 0.229-0.5 0.5-0.5 0 0 15.499-0 15.5 0v7c0 0.552 0.448 1 1 1h7v19.5z\"></path>\n",
       "<path d=\"M23 26h-14c-0.552 0-1-0.448-1-1s0.448-1 1-1h14c0.552 0 1 0.448 1 1s-0.448 1-1 1z\"></path>\n",
       "<path d=\"M23 22h-14c-0.552 0-1-0.448-1-1s0.448-1 1-1h14c0.552 0 1 0.448 1 1s-0.448 1-1 1z\"></path>\n",
       "<path d=\"M23 18h-14c-0.552 0-1-0.448-1-1s0.448-1 1-1h14c0.552 0 1 0.448 1 1s-0.448 1-1 1z\"></path>\n",
       "</symbol>\n",
       "</defs>\n",
       "</svg>\n",
       "<style>/* CSS stylesheet for displaying xarray objects in jupyterlab.\n",
       " *\n",
       " */\n",
       "\n",
       ":root {\n",
       "  --xr-font-color0: var(--jp-content-font-color0, rgba(0, 0, 0, 1));\n",
       "  --xr-font-color2: var(--jp-content-font-color2, rgba(0, 0, 0, 0.54));\n",
       "  --xr-font-color3: var(--jp-content-font-color3, rgba(0, 0, 0, 0.38));\n",
       "  --xr-border-color: var(--jp-border-color2, #e0e0e0);\n",
       "  --xr-disabled-color: var(--jp-layout-color3, #bdbdbd);\n",
       "  --xr-background-color: var(--jp-layout-color0, white);\n",
       "  --xr-background-color-row-even: var(--jp-layout-color1, white);\n",
       "  --xr-background-color-row-odd: var(--jp-layout-color2, #eeeeee);\n",
       "}\n",
       "\n",
       "html[theme=dark],\n",
       "body[data-theme=dark],\n",
       "body.vscode-dark {\n",
       "  --xr-font-color0: rgba(255, 255, 255, 1);\n",
       "  --xr-font-color2: rgba(255, 255, 255, 0.54);\n",
       "  --xr-font-color3: rgba(255, 255, 255, 0.38);\n",
       "  --xr-border-color: #1F1F1F;\n",
       "  --xr-disabled-color: #515151;\n",
       "  --xr-background-color: #111111;\n",
       "  --xr-background-color-row-even: #111111;\n",
       "  --xr-background-color-row-odd: #313131;\n",
       "}\n",
       "\n",
       ".xr-wrap {\n",
       "  display: block !important;\n",
       "  min-width: 300px;\n",
       "  max-width: 700px;\n",
       "}\n",
       "\n",
       ".xr-text-repr-fallback {\n",
       "  /* fallback to plain text repr when CSS is not injected (untrusted notebook) */\n",
       "  display: none;\n",
       "}\n",
       "\n",
       ".xr-header {\n",
       "  padding-top: 6px;\n",
       "  padding-bottom: 6px;\n",
       "  margin-bottom: 4px;\n",
       "  border-bottom: solid 1px var(--xr-border-color);\n",
       "}\n",
       "\n",
       ".xr-header > div,\n",
       ".xr-header > ul {\n",
       "  display: inline;\n",
       "  margin-top: 0;\n",
       "  margin-bottom: 0;\n",
       "}\n",
       "\n",
       ".xr-obj-type,\n",
       ".xr-array-name {\n",
       "  margin-left: 2px;\n",
       "  margin-right: 10px;\n",
       "}\n",
       "\n",
       ".xr-obj-type {\n",
       "  color: var(--xr-font-color2);\n",
       "}\n",
       "\n",
       ".xr-sections {\n",
       "  padding-left: 0 !important;\n",
       "  display: grid;\n",
       "  grid-template-columns: 150px auto auto 1fr 20px 20px;\n",
       "}\n",
       "\n",
       ".xr-section-item {\n",
       "  display: contents;\n",
       "}\n",
       "\n",
       ".xr-section-item input {\n",
       "  display: none;\n",
       "}\n",
       "\n",
       ".xr-section-item input + label {\n",
       "  color: var(--xr-disabled-color);\n",
       "}\n",
       "\n",
       ".xr-section-item input:enabled + label {\n",
       "  cursor: pointer;\n",
       "  color: var(--xr-font-color2);\n",
       "}\n",
       "\n",
       ".xr-section-item input:enabled + label:hover {\n",
       "  color: var(--xr-font-color0);\n",
       "}\n",
       "\n",
       ".xr-section-summary {\n",
       "  grid-column: 1;\n",
       "  color: var(--xr-font-color2);\n",
       "  font-weight: 500;\n",
       "}\n",
       "\n",
       ".xr-section-summary > span {\n",
       "  display: inline-block;\n",
       "  padding-left: 0.5em;\n",
       "}\n",
       "\n",
       ".xr-section-summary-in:disabled + label {\n",
       "  color: var(--xr-font-color2);\n",
       "}\n",
       "\n",
       ".xr-section-summary-in + label:before {\n",
       "  display: inline-block;\n",
       "  content: '►';\n",
       "  font-size: 11px;\n",
       "  width: 15px;\n",
       "  text-align: center;\n",
       "}\n",
       "\n",
       ".xr-section-summary-in:disabled + label:before {\n",
       "  color: var(--xr-disabled-color);\n",
       "}\n",
       "\n",
       ".xr-section-summary-in:checked + label:before {\n",
       "  content: '▼';\n",
       "}\n",
       "\n",
       ".xr-section-summary-in:checked + label > span {\n",
       "  display: none;\n",
       "}\n",
       "\n",
       ".xr-section-summary,\n",
       ".xr-section-inline-details {\n",
       "  padding-top: 4px;\n",
       "  padding-bottom: 4px;\n",
       "}\n",
       "\n",
       ".xr-section-inline-details {\n",
       "  grid-column: 2 / -1;\n",
       "}\n",
       "\n",
       ".xr-section-details {\n",
       "  display: none;\n",
       "  grid-column: 1 / -1;\n",
       "  margin-bottom: 5px;\n",
       "}\n",
       "\n",
       ".xr-section-summary-in:checked ~ .xr-section-details {\n",
       "  display: contents;\n",
       "}\n",
       "\n",
       ".xr-array-wrap {\n",
       "  grid-column: 1 / -1;\n",
       "  display: grid;\n",
       "  grid-template-columns: 20px auto;\n",
       "}\n",
       "\n",
       ".xr-array-wrap > label {\n",
       "  grid-column: 1;\n",
       "  vertical-align: top;\n",
       "}\n",
       "\n",
       ".xr-preview {\n",
       "  color: var(--xr-font-color3);\n",
       "}\n",
       "\n",
       ".xr-array-preview,\n",
       ".xr-array-data {\n",
       "  padding: 0 5px !important;\n",
       "  grid-column: 2;\n",
       "}\n",
       "\n",
       ".xr-array-data,\n",
       ".xr-array-in:checked ~ .xr-array-preview {\n",
       "  display: none;\n",
       "}\n",
       "\n",
       ".xr-array-in:checked ~ .xr-array-data,\n",
       ".xr-array-preview {\n",
       "  display: inline-block;\n",
       "}\n",
       "\n",
       ".xr-dim-list {\n",
       "  display: inline-block !important;\n",
       "  list-style: none;\n",
       "  padding: 0 !important;\n",
       "  margin: 0;\n",
       "}\n",
       "\n",
       ".xr-dim-list li {\n",
       "  display: inline-block;\n",
       "  padding: 0;\n",
       "  margin: 0;\n",
       "}\n",
       "\n",
       ".xr-dim-list:before {\n",
       "  content: '(';\n",
       "}\n",
       "\n",
       ".xr-dim-list:after {\n",
       "  content: ')';\n",
       "}\n",
       "\n",
       ".xr-dim-list li:not(:last-child):after {\n",
       "  content: ',';\n",
       "  padding-right: 5px;\n",
       "}\n",
       "\n",
       ".xr-has-index {\n",
       "  font-weight: bold;\n",
       "}\n",
       "\n",
       ".xr-var-list,\n",
       ".xr-var-item {\n",
       "  display: contents;\n",
       "}\n",
       "\n",
       ".xr-var-item > div,\n",
       ".xr-var-item label,\n",
       ".xr-var-item > .xr-var-name span {\n",
       "  background-color: var(--xr-background-color-row-even);\n",
       "  margin-bottom: 0;\n",
       "}\n",
       "\n",
       ".xr-var-item > .xr-var-name:hover span {\n",
       "  padding-right: 5px;\n",
       "}\n",
       "\n",
       ".xr-var-list > li:nth-child(odd) > div,\n",
       ".xr-var-list > li:nth-child(odd) > label,\n",
       ".xr-var-list > li:nth-child(odd) > .xr-var-name span {\n",
       "  background-color: var(--xr-background-color-row-odd);\n",
       "}\n",
       "\n",
       ".xr-var-name {\n",
       "  grid-column: 1;\n",
       "}\n",
       "\n",
       ".xr-var-dims {\n",
       "  grid-column: 2;\n",
       "}\n",
       "\n",
       ".xr-var-dtype {\n",
       "  grid-column: 3;\n",
       "  text-align: right;\n",
       "  color: var(--xr-font-color2);\n",
       "}\n",
       "\n",
       ".xr-var-preview {\n",
       "  grid-column: 4;\n",
       "}\n",
       "\n",
       ".xr-index-preview {\n",
       "  grid-column: 2 / 5;\n",
       "  color: var(--xr-font-color2);\n",
       "}\n",
       "\n",
       ".xr-var-name,\n",
       ".xr-var-dims,\n",
       ".xr-var-dtype,\n",
       ".xr-preview,\n",
       ".xr-attrs dt {\n",
       "  white-space: nowrap;\n",
       "  overflow: hidden;\n",
       "  text-overflow: ellipsis;\n",
       "  padding-right: 10px;\n",
       "}\n",
       "\n",
       ".xr-var-name:hover,\n",
       ".xr-var-dims:hover,\n",
       ".xr-var-dtype:hover,\n",
       ".xr-attrs dt:hover {\n",
       "  overflow: visible;\n",
       "  width: auto;\n",
       "  z-index: 1;\n",
       "}\n",
       "\n",
       ".xr-var-attrs,\n",
       ".xr-var-data,\n",
       ".xr-index-data {\n",
       "  display: none;\n",
       "  background-color: var(--xr-background-color) !important;\n",
       "  padding-bottom: 5px !important;\n",
       "}\n",
       "\n",
       ".xr-var-attrs-in:checked ~ .xr-var-attrs,\n",
       ".xr-var-data-in:checked ~ .xr-var-data,\n",
       ".xr-index-data-in:checked ~ .xr-index-data {\n",
       "  display: block;\n",
       "}\n",
       "\n",
       ".xr-var-data > table {\n",
       "  float: right;\n",
       "}\n",
       "\n",
       ".xr-var-name span,\n",
       ".xr-var-data,\n",
       ".xr-index-name div,\n",
       ".xr-index-data,\n",
       ".xr-attrs {\n",
       "  padding-left: 25px !important;\n",
       "}\n",
       "\n",
       ".xr-attrs,\n",
       ".xr-var-attrs,\n",
       ".xr-var-data,\n",
       ".xr-index-data {\n",
       "  grid-column: 1 / -1;\n",
       "}\n",
       "\n",
       "dl.xr-attrs {\n",
       "  padding: 0;\n",
       "  margin: 0;\n",
       "  display: grid;\n",
       "  grid-template-columns: 125px auto;\n",
       "}\n",
       "\n",
       ".xr-attrs dt,\n",
       ".xr-attrs dd {\n",
       "  padding: 0;\n",
       "  margin: 0;\n",
       "  float: left;\n",
       "  padding-right: 10px;\n",
       "  width: auto;\n",
       "}\n",
       "\n",
       ".xr-attrs dt {\n",
       "  font-weight: normal;\n",
       "  grid-column: 1;\n",
       "}\n",
       "\n",
       ".xr-attrs dt:hover span {\n",
       "  display: inline-block;\n",
       "  background: var(--xr-background-color);\n",
       "  padding-right: 10px;\n",
       "}\n",
       "\n",
       ".xr-attrs dd {\n",
       "  grid-column: 2;\n",
       "  white-space: pre-wrap;\n",
       "  word-break: break-all;\n",
       "}\n",
       "\n",
       ".xr-icon-database,\n",
       ".xr-icon-file-text2,\n",
       ".xr-no-icon {\n",
       "  display: inline-block;\n",
       "  vertical-align: middle;\n",
       "  width: 1em;\n",
       "  height: 1.5em !important;\n",
       "  stroke-width: 0;\n",
       "  stroke: currentColor;\n",
       "  fill: currentColor;\n",
       "}\n",
       "</style><pre class='xr-text-repr-fallback'>&lt;xarray.DataArray &#x27;LFP&#x27; (time: 10715666, channel: 93)&gt;\n",
       "array([[ 4.01699981e-05,  4.60199990e-05,  3.89999987e-05, ...,\n",
       "         1.75499997e-06, -5.85000009e-07,  1.36500000e-06],\n",
       "       [ 1.34550000e-05,  3.76349999e-05,  3.80249985e-05, ...,\n",
       "        -2.20349993e-05,  1.11150002e-05,  2.04749995e-05],\n",
       "       [ 2.02800002e-05,  1.42350000e-05,  3.60749982e-05, ...,\n",
       "        -1.73549997e-05,  4.09499989e-06,  1.56000006e-05],\n",
       "       ...,\n",
       "       [-7.74149958e-05, -5.44049981e-05, -1.16219999e-04, ...,\n",
       "         1.20899995e-05,  3.31500014e-05,  9.75000034e-07],\n",
       "       [-5.65500013e-05, -5.55750012e-05, -1.26165003e-04, ...,\n",
       "         2.08649999e-05,  2.84700000e-05,  4.87499983e-06],\n",
       "       [-4.87500001e-05, -3.08099989e-05, -6.49349968e-05, ...,\n",
       "         1.13099995e-05,  2.02800002e-05,  3.11999997e-06]], dtype=float32)\n",
       "Coordinates:\n",
       "  * time     (time) float64 28.82 28.82 28.83 ... 9.616e+03 9.616e+03 9.616e+03\n",
       "  * channel  (channel) int64 850264150 850264158 ... 850264878 850264886</pre><div class='xr-wrap' style='display:none'><div class='xr-header'><div class='xr-obj-type'>xarray.DataArray</div><div class='xr-array-name'>'LFP'</div><ul class='xr-dim-list'><li><span class='xr-has-index'>time</span>: 10715666</li><li><span class='xr-has-index'>channel</span>: 93</li></ul></div><ul class='xr-sections'><li class='xr-section-item'><div class='xr-array-wrap'><input id='section-116f36f5-28c3-4c6b-b83b-558532445a9c' class='xr-array-in' type='checkbox' checked><label for='section-116f36f5-28c3-4c6b-b83b-558532445a9c' title='Show/hide data repr'><svg class='icon xr-icon-database'><use xlink:href='#icon-database'></use></svg></label><div class='xr-array-preview xr-preview'><span>4.017e-05 4.602e-05 3.9e-05 5.226e-05 ... 1.131e-05 2.028e-05 3.12e-06</span></div><div class='xr-array-data'><pre>array([[ 4.01699981e-05,  4.60199990e-05,  3.89999987e-05, ...,\n",
       "         1.75499997e-06, -5.85000009e-07,  1.36500000e-06],\n",
       "       [ 1.34550000e-05,  3.76349999e-05,  3.80249985e-05, ...,\n",
       "        -2.20349993e-05,  1.11150002e-05,  2.04749995e-05],\n",
       "       [ 2.02800002e-05,  1.42350000e-05,  3.60749982e-05, ...,\n",
       "        -1.73549997e-05,  4.09499989e-06,  1.56000006e-05],\n",
       "       ...,\n",
       "       [-7.74149958e-05, -5.44049981e-05, -1.16219999e-04, ...,\n",
       "         1.20899995e-05,  3.31500014e-05,  9.75000034e-07],\n",
       "       [-5.65500013e-05, -5.55750012e-05, -1.26165003e-04, ...,\n",
       "         2.08649999e-05,  2.84700000e-05,  4.87499983e-06],\n",
       "       [-4.87500001e-05, -3.08099989e-05, -6.49349968e-05, ...,\n",
       "         1.13099995e-05,  2.02800002e-05,  3.11999997e-06]], dtype=float32)</pre></div></div></li><li class='xr-section-item'><input id='section-ec817a39-170a-4ef8-8f67-7c956e49c6c5' class='xr-section-summary-in' type='checkbox'  checked><label for='section-ec817a39-170a-4ef8-8f67-7c956e49c6c5' class='xr-section-summary' >Coordinates: <span>(2)</span></label><div class='xr-section-inline-details'></div><div class='xr-section-details'><ul class='xr-var-list'><li class='xr-var-item'><div class='xr-var-name'><span class='xr-has-index'>time</span></div><div class='xr-var-dims'>(time)</div><div class='xr-var-dtype'>float64</div><div class='xr-var-preview xr-preview'>28.82 28.82 ... 9.616e+03 9.616e+03</div><input id='attrs-b7291640-7f80-4f42-9694-939da244b4ae' class='xr-var-attrs-in' type='checkbox' disabled><label for='attrs-b7291640-7f80-4f42-9694-939da244b4ae' title='Show/Hide attributes'><svg class='icon xr-icon-file-text2'><use xlink:href='#icon-file-text2'></use></svg></label><input id='data-cab63e2b-b5dd-493f-a29d-2f92ae78abf9' class='xr-var-data-in' type='checkbox'><label for='data-cab63e2b-b5dd-493f-a29d-2f92ae78abf9' title='Show/Hide data repr'><svg class='icon xr-icon-database'><use xlink:href='#icon-database'></use></svg></label><div class='xr-var-attrs'><dl class='xr-attrs'></dl></div><div class='xr-var-data'><pre>array([  28.823997,   28.824797,   28.825597, ..., 9616.023294, 9616.024094,\n",
       "       9616.024894])</pre></div></li><li class='xr-var-item'><div class='xr-var-name'><span class='xr-has-index'>channel</span></div><div class='xr-var-dims'>(channel)</div><div class='xr-var-dtype'>int64</div><div class='xr-var-preview xr-preview'>850264150 850264158 ... 850264886</div><input id='attrs-00deec15-bcd2-4b7c-9c6f-82b19abbda73' class='xr-var-attrs-in' type='checkbox' disabled><label for='attrs-00deec15-bcd2-4b7c-9c6f-82b19abbda73' title='Show/Hide attributes'><svg class='icon xr-icon-file-text2'><use xlink:href='#icon-file-text2'></use></svg></label><input id='data-8b687d18-5643-4c80-b5dc-85fdbfc53142' class='xr-var-data-in' type='checkbox'><label for='data-8b687d18-5643-4c80-b5dc-85fdbfc53142' title='Show/Hide data repr'><svg class='icon xr-icon-database'><use xlink:href='#icon-database'></use></svg></label><div class='xr-var-attrs'><dl class='xr-attrs'></dl></div><div class='xr-var-data'><pre>array([850264150, 850264158, 850264166, 850264174, 850264182, 850264190,\n",
       "       850264198, 850264206, 850264214, 850264222, 850264230, 850264238,\n",
       "       850264246, 850264254, 850264262, 850264270, 850264278, 850264286,\n",
       "       850264294, 850264302, 850264310, 850264318, 850264326, 850264334,\n",
       "       850264342, 850264350, 850264358, 850264366, 850264374, 850264382,\n",
       "       850264390, 850264398, 850264406, 850264414, 850264422, 850264430,\n",
       "       850264438, 850264446, 850264454, 850264462, 850264470, 850264478,\n",
       "       850264486, 850264494, 850264502, 850264510, 850264518, 850264526,\n",
       "       850264534, 850264542, 850264550, 850264558, 850264566, 850264574,\n",
       "       850264582, 850264590, 850264598, 850264606, 850264614, 850264622,\n",
       "       850264630, 850264638, 850264646, 850264654, 850264662, 850264670,\n",
       "       850264678, 850264686, 850264694, 850264702, 850264710, 850264718,\n",
       "       850264726, 850264734, 850264742, 850264750, 850264758, 850264766,\n",
       "       850264774, 850264782, 850264790, 850264798, 850264806, 850264814,\n",
       "       850264822, 850264830, 850264838, 850264846, 850264854, 850264862,\n",
       "       850264870, 850264878, 850264886])</pre></div></li></ul></div></li><li class='xr-section-item'><input id='section-4f2664ab-704e-401e-be19-402d7008b24a' class='xr-section-summary-in' type='checkbox'  ><label for='section-4f2664ab-704e-401e-be19-402d7008b24a' class='xr-section-summary' >Indexes: <span>(2)</span></label><div class='xr-section-inline-details'></div><div class='xr-section-details'><ul class='xr-var-list'><li class='xr-var-item'><div class='xr-index-name'><div>time</div></div><div class='xr-index-preview'>PandasIndex</div><div></div><input id='index-0db984ab-5706-428e-9cb3-aa550b3501b0' class='xr-index-data-in' type='checkbox'/><label for='index-0db984ab-5706-428e-9cb3-aa550b3501b0' title='Show/Hide index repr'><svg class='icon xr-icon-database'><use xlink:href='#icon-database'></use></svg></label><div class='xr-index-data'><pre>PandasIndex(Float64Index([ 28.82399658853398, 28.824796589847104, 28.825596591160227,\n",
       "               28.82639659247335, 28.827196593786475, 28.827996595099602,\n",
       "              28.828796596412726,  28.82959659772585, 28.830396599038973,\n",
       "              28.831196600352097,\n",
       "              ...\n",
       "               9616.017694392467,  9616.018494393671,  9616.019294394875,\n",
       "               9616.020094396079,  9616.020894397283,  9616.021694398487,\n",
       "               9616.022494399691,  9616.023294400895,  9616.024094402099,\n",
       "               9616.024894403303],\n",
       "             dtype=&#x27;float64&#x27;, name=&#x27;time&#x27;, length=10715666))</pre></div></li><li class='xr-var-item'><div class='xr-index-name'><div>channel</div></div><div class='xr-index-preview'>PandasIndex</div><div></div><input id='index-b12ea2c4-214f-4cc7-8d35-cb617bdc07e9' class='xr-index-data-in' type='checkbox'/><label for='index-b12ea2c4-214f-4cc7-8d35-cb617bdc07e9' title='Show/Hide index repr'><svg class='icon xr-icon-database'><use xlink:href='#icon-database'></use></svg></label><div class='xr-index-data'><pre>PandasIndex(Int64Index([850264150, 850264158, 850264166, 850264174, 850264182, 850264190,\n",
       "            850264198, 850264206, 850264214, 850264222, 850264230, 850264238,\n",
       "            850264246, 850264254, 850264262, 850264270, 850264278, 850264286,\n",
       "            850264294, 850264302, 850264310, 850264318, 850264326, 850264334,\n",
       "            850264342, 850264350, 850264358, 850264366, 850264374, 850264382,\n",
       "            850264390, 850264398, 850264406, 850264414, 850264422, 850264430,\n",
       "            850264438, 850264446, 850264454, 850264462, 850264470, 850264478,\n",
       "            850264486, 850264494, 850264502, 850264510, 850264518, 850264526,\n",
       "            850264534, 850264542, 850264550, 850264558, 850264566, 850264574,\n",
       "            850264582, 850264590, 850264598, 850264606, 850264614, 850264622,\n",
       "            850264630, 850264638, 850264646, 850264654, 850264662, 850264670,\n",
       "            850264678, 850264686, 850264694, 850264702, 850264710, 850264718,\n",
       "            850264726, 850264734, 850264742, 850264750, 850264758, 850264766,\n",
       "            850264774, 850264782, 850264790, 850264798, 850264806, 850264814,\n",
       "            850264822, 850264830, 850264838, 850264846, 850264854, 850264862,\n",
       "            850264870, 850264878, 850264886],\n",
       "           dtype=&#x27;int64&#x27;, name=&#x27;channel&#x27;))</pre></div></li></ul></div></li><li class='xr-section-item'><input id='section-50fea932-0a27-4209-a279-0444c3e6ae37' class='xr-section-summary-in' type='checkbox' disabled ><label for='section-50fea932-0a27-4209-a279-0444c3e6ae37' class='xr-section-summary'  title='Expand/collapse section'>Attributes: <span>(0)</span></label><div class='xr-section-inline-details'></div><div class='xr-section-details'><dl class='xr-attrs'></dl></div></li></ul></div></div>"
      ],
      "text/plain": [
       "<xarray.DataArray 'LFP' (time: 10715666, channel: 93)>\n",
       "array([[ 4.01699981e-05,  4.60199990e-05,  3.89999987e-05, ...,\n",
       "         1.75499997e-06, -5.85000009e-07,  1.36500000e-06],\n",
       "       [ 1.34550000e-05,  3.76349999e-05,  3.80249985e-05, ...,\n",
       "        -2.20349993e-05,  1.11150002e-05,  2.04749995e-05],\n",
       "       [ 2.02800002e-05,  1.42350000e-05,  3.60749982e-05, ...,\n",
       "        -1.73549997e-05,  4.09499989e-06,  1.56000006e-05],\n",
       "       ...,\n",
       "       [-7.74149958e-05, -5.44049981e-05, -1.16219999e-04, ...,\n",
       "         1.20899995e-05,  3.31500014e-05,  9.75000034e-07],\n",
       "       [-5.65500013e-05, -5.55750012e-05, -1.26165003e-04, ...,\n",
       "         2.08649999e-05,  2.84700000e-05,  4.87499983e-06],\n",
       "       [-4.87500001e-05, -3.08099989e-05, -6.49349968e-05, ...,\n",
       "         1.13099995e-05,  2.02800002e-05,  3.11999997e-06]], dtype=float32)\n",
       "Coordinates:\n",
       "  * time     (time) float64 28.82 28.82 28.83 ... 9.616e+03 9.616e+03 9.616e+03\n",
       "  * channel  (channel) int64 850264150 850264158 ... 850264878 850264886"
      ]
     },
     "execution_count": 15,
     "metadata": {},
     "output_type": "execute_result"
    }
   ],
   "source": [
    "lfp"
   ]
  },
  {
   "cell_type": "code",
   "execution_count": null,
   "id": "2e14507c",
   "metadata": {},
   "outputs": [],
   "source": []
  },
  {
   "attachments": {},
   "cell_type": "markdown",
   "id": "adfd255a",
   "metadata": {
    "papermill": {
     "duration": 0.130023,
     "end_time": "2023-11-30T06:36:59.724222",
     "exception": false,
     "start_time": "2023-11-30T06:36:59.594199",
     "status": "completed"
    },
    "pycharm": {
     "name": "#%% md\n"
    },
    "tags": []
   },
   "source": [
    "Tips for analyzing LFP data can be found in [this tutorial](./ecephys_lfp_analysis.ipynb)."
   ]
  }
 ],
 "metadata": {
  "celltoolbar": "Tags",
  "kernelspec": {
   "display_name": "COPGP",
   "language": "python",
   "name": "python3"
  },
  "language_info": {
   "codemirror_mode": {
    "name": "ipython",
    "version": 3
   },
   "file_extension": ".py",
   "mimetype": "text/x-python",
   "name": "python",
   "nbconvert_exporter": "python",
   "pygments_lexer": "ipython3",
   "version": "3.11.6"
  },
  "papermill": {
   "default_parameters": {},
   "duration": 885.213977,
   "end_time": "2023-11-30T06:38:07.391317",
   "environment_variables": {},
   "exception": null,
   "input_path": "doc_template/examples_root/examples/nb/ecephys_data_access.ipynb",
   "output_path": "/tmp/tmpja7ncvq6/scratch_nb.ipynb",
   "parameters": {
    "DOWNLOAD_COMPLETE_DATASET": false,
    "output_dir": "/tmp/tmpja7ncvq6",
    "resources_dir": "/home/runner/work/AllenSDK/AllenSDK/allensdk/internal/notebooks/resources"
   },
   "start_time": "2023-11-30T06:23:22.177340",
   "version": "2.4.0"
  }
 },
 "nbformat": 4,
 "nbformat_minor": 5
}
